{
 "cells": [
  {
   "cell_type": "code",
   "execution_count": 1,
   "metadata": {
    "collapsed": true
   },
   "outputs": [],
   "source": [
    "import pandas as pd\n",
    "import numpy as np\n",
    "import matplotlib.pyplot as plt\n",
    "from sklearn.svm import SVC\n",
    "from sklearn.model_selection import train_test_split, GridSearchCV\n",
    "from sklearn.metrics import accuracy_score, fbeta_score, recall_score\n",
    "\n",
    "%matplotlib inline"
   ]
  },
  {
   "cell_type": "markdown",
   "metadata": {},
   "source": [
    "### The following code block creates a dataset of students who received grades for all 3 questions in the dataset"
   ]
  },
  {
   "cell_type": "code",
   "execution_count": 2,
   "metadata": {
    "collapsed": true
   },
   "outputs": [],
   "source": [
    "df = pd.read_excel('litmus_results_trial1.xlsx')\n",
    "q1_score = df[pd.notnull(df.question_id_11459_score)]\n",
    "q1q2 = q1_score[pd.notnull(q1_score.question_id_11460_score)]\n",
    "q1q2q3 = q1q2[pd.notnull(q1q2.question_id_11461_score)]"
   ]
  },
  {
   "cell_type": "code",
   "execution_count": 3,
   "metadata": {
    "collapsed": true
   },
   "outputs": [],
   "source": [
    "\"Remove any null values\"\n",
    "q1_answers = q1q2q3.question_id_11459_answer\n",
    "q1_answers = q1_answers.apply(lambda x: x if pd.notnull(x) else \"\")\n",
    "\n",
    "q2_answers = q1q2q3.question_id_11460_answer\n",
    "q2_answers = q2_answers.apply(lambda x: x if pd.notnull(x) else \"\")\n",
    "\n",
    "q3_answers = q1q2q3.question_id_11461_answer\n",
    "q3_answers = q3_answers.apply(lambda x: x if pd.notnull(x) else \"\")"
   ]
  },
  {
   "cell_type": "code",
   "execution_count": 4,
   "metadata": {
    "collapsed": true
   },
   "outputs": [],
   "source": [
    "\"Turn the student answers into a list\"\n",
    "q1_answers = q1_answers.tolist()\n",
    "q2_answers = q2_answers.tolist()\n",
    "q3_answers = q3_answers.tolist()"
   ]
  },
  {
   "cell_type": "code",
   "execution_count": 5,
   "metadata": {
    "collapsed": true
   },
   "outputs": [],
   "source": [
    "\"Grab the solutions from the rubric for each question\"\n",
    "solution_q1 = 'arent you a little too old to be playing make believe'\n",
    "solution_q2 = 'Monica smiles'\n",
    "solution_q3 = 'Monica’s response changed because of what happened when she' \\\n",
    "+ 'went blueberry picking with her mother. She started having fun when she was' \\\n",
    "+ 'singing and dancing under the branches. So she understood why her mom sang' \\\n",
    "+ 'and danced for fun at the end of the story. Also, Monica got stung by a bee,' \\\n",
    "+ 'and her mom took care of her by hugging her and giving her first aid cream.' \\\n",
    "+ 'So at the end of the story, she wasn’t annoyed at her mom anymore.'"
   ]
  },
  {
   "cell_type": "markdown",
   "metadata": {},
   "source": [
    "### The following section's goal is to determine how well a model can predict whether a student received a perfect score or not. This is because the rubric provides the most clear answers for a perfect score"
   ]
  },
  {
   "cell_type": "code",
   "execution_count": 6,
   "metadata": {
    "collapsed": true
   },
   "outputs": [],
   "source": [
    "\"Append each solution to its corresponding list\"\n",
    "q1_answers.append(solution_q1)\n",
    "q2_answers.append(solution_q2)\n",
    "q3_answers.append(solution_q3)"
   ]
  },
  {
   "cell_type": "code",
   "execution_count": 7,
   "metadata": {
    "collapsed": true
   },
   "outputs": [],
   "source": [
    "from sklearn.feature_extraction.text import TfidfVectorizer"
   ]
  },
  {
   "cell_type": "markdown",
   "metadata": {},
   "source": [
    "#### Remove punctuation and make all sentences lowercase"
   ]
  },
  {
   "cell_type": "code",
   "execution_count": 8,
   "metadata": {
    "collapsed": true
   },
   "outputs": [],
   "source": [
    "lc_q1_answers = []\n",
    "lc_q2_answers = []\n",
    "lc_q3_answers = []\n",
    "for i in range(len(q1_answers)):\n",
    "    lc_q1_answers.append(q1_answers[i].lower())\n",
    "    lc_q2_answers.append(q2_answers[i].lower())\n",
    "    lc_q3_answers.append(q3_answers[i].lower())\n",
    "    \n",
    "np_q1_answers = []\n",
    "np_q2_answers = []\n",
    "np_q3_answers = []\n",
    "import string\n",
    "\n",
    "for i in lc_q1_answers:\n",
    "    np_q1_answers.append(i.translate(str.maketrans('', '', string.punctuation)))\n",
    "for i in lc_q2_answers:\n",
    "    np_q2_answers.append(i.translate(str.maketrans('', '', string.punctuation)))\n",
    "for i in lc_q3_answers:\n",
    "    np_q3_answers.append(i.translate(str.maketrans('', '', string.punctuation)))"
   ]
  },
  {
   "cell_type": "markdown",
   "metadata": {},
   "source": [
    "#### Implement a cosine similarity score to use in the model"
   ]
  },
  {
   "cell_type": "code",
   "execution_count": 9,
   "metadata": {
    "collapsed": true
   },
   "outputs": [],
   "source": [
    "vect = TfidfVectorizer()"
   ]
  },
  {
   "cell_type": "code",
   "execution_count": 10,
   "metadata": {
    "collapsed": true
   },
   "outputs": [],
   "source": [
    "tfidf1 = vect.fit_transform(np_q1_answers)\n",
    "tfidf2 = vect.fit_transform(np_q2_answers)\n",
    "tfidf3 = vect.fit_transform(np_q3_answers)"
   ]
  },
  {
   "cell_type": "markdown",
   "metadata": {},
   "source": [
    "#### The last row in the matrix tfidf matrix which is '243' represents how similar each student's answer was to the rubric solution. We will append these results to the dataset to create a variable we can use for the model"
   ]
  },
  {
   "cell_type": "code",
   "execution_count": 11,
   "metadata": {
    "collapsed": true
   },
   "outputs": [],
   "source": [
    "sim_score_q1 = list((tfidf1 * tfidf1.T).A[243])\n",
    "sim_score_q2 = list((tfidf2 * tfidf2.T).A[243])\n",
    "sim_score_q3 = list((tfidf3 * tfidf3.T).A[243])"
   ]
  },
  {
   "cell_type": "code",
   "execution_count": 12,
   "metadata": {},
   "outputs": [
    {
     "name": "stderr",
     "output_type": "stream",
     "text": [
      "C:\\Users\\Prince\\Anaconda2\\envs\\dawn\\lib\\site-packages\\ipykernel_launcher.py:1: SettingWithCopyWarning: \n",
      "A value is trying to be set on a copy of a slice from a DataFrame.\n",
      "Try using .loc[row_indexer,col_indexer] = value instead\n",
      "\n",
      "See the caveats in the documentation: http://pandas.pydata.org/pandas-docs/stable/indexing.html#indexing-view-versus-copy\n",
      "  \"\"\"Entry point for launching an IPython kernel.\n",
      "C:\\Users\\Prince\\Anaconda2\\envs\\dawn\\lib\\site-packages\\ipykernel_launcher.py:2: SettingWithCopyWarning: \n",
      "A value is trying to be set on a copy of a slice from a DataFrame.\n",
      "Try using .loc[row_indexer,col_indexer] = value instead\n",
      "\n",
      "See the caveats in the documentation: http://pandas.pydata.org/pandas-docs/stable/indexing.html#indexing-view-versus-copy\n",
      "  \n",
      "C:\\Users\\Prince\\Anaconda2\\envs\\dawn\\lib\\site-packages\\ipykernel_launcher.py:3: SettingWithCopyWarning: \n",
      "A value is trying to be set on a copy of a slice from a DataFrame.\n",
      "Try using .loc[row_indexer,col_indexer] = value instead\n",
      "\n",
      "See the caveats in the documentation: http://pandas.pydata.org/pandas-docs/stable/indexing.html#indexing-view-versus-copy\n",
      "  This is separate from the ipykernel package so we can avoid doing imports until\n"
     ]
    }
   ],
   "source": [
    "q1q2q3[\"id_11459_sim_score\"] = sim_score_q1[:-1]\n",
    "q1q2q3[\"id_11460_sim_score\"] = sim_score_q2[:-1]\n",
    "q1q2q3[\"id_11461_sim_score\"] = sim_score_q3[:-1]"
   ]
  },
  {
   "cell_type": "code",
   "execution_count": 13,
   "metadata": {},
   "outputs": [
    {
     "name": "stderr",
     "output_type": "stream",
     "text": [
      "C:\\Users\\Prince\\Anaconda2\\envs\\dawn\\lib\\site-packages\\ipykernel_launcher.py:1: SettingWithCopyWarning: \n",
      "A value is trying to be set on a copy of a slice from a DataFrame.\n",
      "Try using .loc[row_indexer,col_indexer] = value instead\n",
      "\n",
      "See the caveats in the documentation: http://pandas.pydata.org/pandas-docs/stable/indexing.html#indexing-view-versus-copy\n",
      "  \"\"\"Entry point for launching an IPython kernel.\n",
      "C:\\Users\\Prince\\Anaconda2\\envs\\dawn\\lib\\site-packages\\ipykernel_launcher.py:2: SettingWithCopyWarning: \n",
      "A value is trying to be set on a copy of a slice from a DataFrame.\n",
      "Try using .loc[row_indexer,col_indexer] = value instead\n",
      "\n",
      "See the caveats in the documentation: http://pandas.pydata.org/pandas-docs/stable/indexing.html#indexing-view-versus-copy\n",
      "  \n",
      "C:\\Users\\Prince\\Anaconda2\\envs\\dawn\\lib\\site-packages\\ipykernel_launcher.py:3: SettingWithCopyWarning: \n",
      "A value is trying to be set on a copy of a slice from a DataFrame.\n",
      "Try using .loc[row_indexer,col_indexer] = value instead\n",
      "\n",
      "See the caveats in the documentation: http://pandas.pydata.org/pandas-docs/stable/indexing.html#indexing-view-versus-copy\n",
      "  This is separate from the ipykernel package so we can avoid doing imports until\n"
     ]
    }
   ],
   "source": [
    "q1q2q3['q1_hundred'] = q1q2q3.question_id_11459_score.apply(lambda x: 1 if x >= 1.0 else 0)\n",
    "q1q2q3['q2_hundred'] = q1q2q3.question_id_11460_score.apply(lambda x: 1 if x >= 1.0 else 0)\n",
    "q1q2q3['q3_hundred'] = q1q2q3.question_id_11461_score.apply(lambda x: 1 if x >= 1.0 else 0)"
   ]
  },
  {
   "cell_type": "code",
   "execution_count": 14,
   "metadata": {
    "collapsed": true
   },
   "outputs": [],
   "source": [
    "X = q1q2q3[[\"id_11459_sim_score\"]]\n",
    "y = q1q2q3[[\"q1_hundred\"]]"
   ]
  },
  {
   "cell_type": "code",
   "execution_count": 15,
   "metadata": {
    "collapsed": true
   },
   "outputs": [],
   "source": [
    "X_train, X_test, y_train, y_test = train_test_split(X, y, test_size=.3)"
   ]
  },
  {
   "cell_type": "markdown",
   "metadata": {},
   "source": [
    "#### I will implement a support vector machine model. The reason is because they are well known for being able to determine boundaries in high dimensional space"
   ]
  },
  {
   "cell_type": "code",
   "execution_count": 16,
   "metadata": {},
   "outputs": [
    {
     "name": "stderr",
     "output_type": "stream",
     "text": [
      "C:\\Users\\Prince\\Anaconda2\\envs\\dawn\\lib\\site-packages\\sklearn\\utils\\validation.py:578: DataConversionWarning: A column-vector y was passed when a 1d array was expected. Please change the shape of y to (n_samples, ), for example using ravel().\n",
      "  y = column_or_1d(y, warn=True)\n"
     ]
    },
    {
     "data": {
      "text/plain": [
       "SVC(C=1.0, cache_size=200, class_weight=None, coef0=0.0,\n",
       "  decision_function_shape='ovr', degree=3, gamma='auto', kernel='rbf',\n",
       "  max_iter=-1, probability=False, random_state=None, shrinking=True,\n",
       "  tol=0.001, verbose=False)"
      ]
     },
     "execution_count": 16,
     "metadata": {},
     "output_type": "execute_result"
    }
   ],
   "source": [
    "model = SVC()\n",
    "model.fit(X_train, y_train)"
   ]
  },
  {
   "cell_type": "code",
   "execution_count": 17,
   "metadata": {
    "collapsed": true
   },
   "outputs": [],
   "source": [
    "predictions_test = model.predict(X_test)"
   ]
  },
  {
   "cell_type": "code",
   "execution_count": 18,
   "metadata": {},
   "outputs": [
    {
     "data": {
      "text/plain": [
       "0.79452054794520544"
      ]
     },
     "execution_count": 18,
     "metadata": {},
     "output_type": "execute_result"
    }
   ],
   "source": [
    "accuracy_score(y_test, predictions_test)"
   ]
  },
  {
   "cell_type": "code",
   "execution_count": 19,
   "metadata": {},
   "outputs": [
    {
     "name": "stderr",
     "output_type": "stream",
     "text": [
      "C:\\Users\\Prince\\Anaconda2\\envs\\dawn\\lib\\site-packages\\sklearn\\utils\\validation.py:578: DataConversionWarning: A column-vector y was passed when a 1d array was expected. Please change the shape of y to (n_samples, ), for example using ravel().\n",
      "  y = column_or_1d(y, warn=True)\n"
     ]
    },
    {
     "data": {
      "text/plain": [
       "0.69863013698630139"
      ]
     },
     "execution_count": 19,
     "metadata": {},
     "output_type": "execute_result"
    }
   ],
   "source": [
    "X = q1q2q3[[\"id_11460_sim_score\"]]\n",
    "y = q1q2q3[[\"q2_hundred\"]]\n",
    "\n",
    "X_train, X_test, y_train, y_test = train_test_split(X, y, test_size=.3)\n",
    "\n",
    "model = SVC()\n",
    "model.fit(X_train, y_train)\n",
    "\n",
    "predictions_test = model.predict(X_test)\n",
    "accuracy_score(y_test, predictions_test)"
   ]
  },
  {
   "cell_type": "code",
   "execution_count": 20,
   "metadata": {},
   "outputs": [
    {
     "name": "stderr",
     "output_type": "stream",
     "text": [
      "C:\\Users\\Prince\\Anaconda2\\envs\\dawn\\lib\\site-packages\\sklearn\\utils\\validation.py:578: DataConversionWarning: A column-vector y was passed when a 1d array was expected. Please change the shape of y to (n_samples, ), for example using ravel().\n",
      "  y = column_or_1d(y, warn=True)\n"
     ]
    },
    {
     "data": {
      "text/plain": [
       "0.50684931506849318"
      ]
     },
     "execution_count": 20,
     "metadata": {},
     "output_type": "execute_result"
    }
   ],
   "source": [
    "X = q1q2q3[[\"id_11461_sim_score\"]]\n",
    "y = q1q2q3[[\"q3_hundred\"]]\n",
    "\n",
    "X_train, X_test, y_train, y_test = train_test_split(X, y, test_size=.3)\n",
    "\n",
    "\n",
    "model = SVC()\n",
    "model.fit(X_train, y_train)\n",
    "\n",
    "predictions_test = model.predict(X_test)\n",
    "accuracy_score(y_test, predictions_test)"
   ]
  },
  {
   "cell_type": "markdown",
   "metadata": {},
   "source": [
    "### The model does very well in predicting whether a student received a perfect score or not for question 11459 but performs poorly for 11460 and 11461. This is most likely due to how short the solution provided for question 11460 is. Also question 11461 has a very long response as a solution and the rubric states that the correct answer may vary.\n",
    "\n",
    "### Next I will determine how well a model can predict any score on question 11461."
   ]
  },
  {
   "cell_type": "markdown",
   "metadata": {},
   "source": [
    "q2 is correct when a student answers 'monica smiles'. also make past tene = present tense"
   ]
  },
  {
   "cell_type": "code",
   "execution_count": 21,
   "metadata": {
    "collapsed": true
   },
   "outputs": [],
   "source": [
    "q1_75_answer = \"We’re WHAT? What am I? Slave labor?\"\n",
    "\n",
    "q1_50_answer = \"she says she thinks her Mom is being childish\"\n",
    "\n",
    "solution_q1 = 'arent you a little too old to be playing make believe'"
   ]
  },
  {
   "cell_type": "code",
   "execution_count": 22,
   "metadata": {
    "collapsed": true
   },
   "outputs": [],
   "source": [
    "q1_answers = q1q2q3.question_id_11459_answer\n",
    "q1_answers = q1_answers.apply(lambda x: x if pd.notnull(x) else \"\")\n",
    "q1_answers = q1_answers.tolist()"
   ]
  },
  {
   "cell_type": "code",
   "execution_count": 23,
   "metadata": {
    "collapsed": true
   },
   "outputs": [],
   "source": [
    "q1_answers.append(q1_75_answer)"
   ]
  },
  {
   "cell_type": "code",
   "execution_count": 24,
   "metadata": {
    "collapsed": true
   },
   "outputs": [],
   "source": [
    "lc_q1_answers = []\n",
    "np_q1_answers = []\n",
    "for i in range(len(q1_answers)):\n",
    "    lc_q1_answers.append(q1_answers[i].lower())\n",
    "    np_q1_answers.append(lc_q1_answers[i].translate(str.maketrans('', '', string.punctuation)))"
   ]
  },
  {
   "cell_type": "code",
   "execution_count": 25,
   "metadata": {},
   "outputs": [
    {
     "name": "stderr",
     "output_type": "stream",
     "text": [
      "C:\\Users\\Prince\\Anaconda2\\envs\\dawn\\lib\\site-packages\\ipykernel_launcher.py:3: SettingWithCopyWarning: \n",
      "A value is trying to be set on a copy of a slice from a DataFrame.\n",
      "Try using .loc[row_indexer,col_indexer] = value instead\n",
      "\n",
      "See the caveats in the documentation: http://pandas.pydata.org/pandas-docs/stable/indexing.html#indexing-view-versus-copy\n",
      "  This is separate from the ipykernel package so we can avoid doing imports until\n"
     ]
    }
   ],
   "source": [
    "tfidf1 = vect.fit_transform(np_q1_answers)\n",
    "sim_score_q1 = list((tfidf1 * tfidf1.T).A[243])\n",
    "q1q2q3[\"id_11459_sim_score_75\"] = sim_score_q1[:-1]"
   ]
  },
  {
   "cell_type": "code",
   "execution_count": 48,
   "metadata": {},
   "outputs": [
    {
     "name": "stderr",
     "output_type": "stream",
     "text": [
      "C:\\Users\\Prince\\Anaconda2\\envs\\dawn\\lib\\site-packages\\ipykernel_launcher.py:15: SettingWithCopyWarning: \n",
      "A value is trying to be set on a copy of a slice from a DataFrame.\n",
      "Try using .loc[row_indexer,col_indexer] = value instead\n",
      "\n",
      "See the caveats in the documentation: http://pandas.pydata.org/pandas-docs/stable/indexing.html#indexing-view-versus-copy\n",
      "  from ipykernel import kernelapp as app\n"
     ]
    }
   ],
   "source": [
    "q1_answers = q1q2q3.question_id_11459_answer\n",
    "q1_answers = q1_answers.apply(lambda x: x if pd.notnull(x) else \"\")\n",
    "q1_answers = q1_answers.tolist()\n",
    "\n",
    "q1_answers.append(q1_50_answer)\n",
    "\n",
    "lc_q1_answers = []\n",
    "np_q1_answers = []\n",
    "for i in range(len(q1_answers)):\n",
    "    lc_q1_answers.append(q1_answers[i].lower())\n",
    "    np_q1_answers.append(lc_q1_answers[i].translate(str.maketrans('-', ' ', '!\"#$%&\\'()*+,./:;<=>?@[\\\\]^_`{|}~')))\n",
    "    \n",
    "tfidf1 = vect.fit_transform(np_q1_answers)\n",
    "sim_score_q1 = list((tfidf1 * tfidf1.T).A[243])\n",
    "q1q2q3[\"id_11459_sim_score_50\"] = sim_score_q1[:-1]"
   ]
  },
  {
   "cell_type": "markdown",
   "metadata": {},
   "source": [
    "#### This function is needed convert the scores into a categorical variable that we can predict"
   ]
  },
  {
   "cell_type": "code",
   "execution_count": 27,
   "metadata": {
    "collapsed": true
   },
   "outputs": [],
   "source": [
    "def convert(x):\n",
    "    if x == 1:\n",
    "        return 3\n",
    "    if x == .75:\n",
    "        return 2\n",
    "    if x == .5:\n",
    "        return 1\n",
    "    else:\n",
    "        return 0"
   ]
  },
  {
   "cell_type": "code",
   "execution_count": 57,
   "metadata": {},
   "outputs": [
    {
     "name": "stderr",
     "output_type": "stream",
     "text": [
      "C:\\Users\\Prince\\Anaconda2\\envs\\dawn\\lib\\site-packages\\ipykernel_launcher.py:1: SettingWithCopyWarning: \n",
      "A value is trying to be set on a copy of a slice from a DataFrame.\n",
      "Try using .loc[row_indexer,col_indexer] = value instead\n",
      "\n",
      "See the caveats in the documentation: http://pandas.pydata.org/pandas-docs/stable/indexing.html#indexing-view-versus-copy\n",
      "  \"\"\"Entry point for launching an IPython kernel.\n"
     ]
    }
   ],
   "source": [
    "q1q2q3['q1_scores'] = q1q2q3.question_id_11459_score.apply(convert)"
   ]
  },
  {
   "cell_type": "code",
   "execution_count": null,
   "metadata": {
    "collapsed": true
   },
   "outputs": [],
   "source": []
  },
  {
   "cell_type": "code",
   "execution_count": 58,
   "metadata": {
    "collapsed": true
   },
   "outputs": [],
   "source": [
    "X = q1q2q3[[\"id_11459_sim_score\", \"id_11459_sim_score_75\", \"id_11459_sim_score_50\"]]\n",
    "y = q1q2q3[[\"q1_scores\"]]\n",
    "\n",
    "X_train, X_test, y_train, y_test = train_test_split(X, y, test_size=.3)"
   ]
  },
  {
   "cell_type": "code",
   "execution_count": 59,
   "metadata": {},
   "outputs": [
    {
     "name": "stderr",
     "output_type": "stream",
     "text": [
      "C:\\Users\\Prince\\Anaconda2\\envs\\dawn\\lib\\site-packages\\sklearn\\utils\\validation.py:578: DataConversionWarning: A column-vector y was passed when a 1d array was expected. Please change the shape of y to (n_samples, ), for example using ravel().\n",
      "  y = column_or_1d(y, warn=True)\n"
     ]
    },
    {
     "data": {
      "text/plain": [
       "0.83561643835616439"
      ]
     },
     "execution_count": 59,
     "metadata": {},
     "output_type": "execute_result"
    }
   ],
   "source": [
    "model = SVC()\n",
    "model.fit(X_train, y_train)\n",
    "\n",
    "predictions_test = model.predict(X_test)\n",
    "accuracy_score(y_test, predictions_test)"
   ]
  },
  {
   "cell_type": "markdown",
   "metadata": {},
   "source": [
    "### For question id 11459, the SVC model has a 80% chance of determining the correct answer of a student receiving a grade of 1, .75, .5, or 0. This is without fixing mispelled words or slight changes in the word used such as smiling vs smiles.\n",
    "\n",
    "### The next step I will implement is correcting spelling errors and seeing if this improves the model."
   ]
  },
  {
   "cell_type": "code",
   "execution_count": 31,
   "metadata": {
    "collapsed": true
   },
   "outputs": [],
   "source": [
    "import autocorrect"
   ]
  },
  {
   "cell_type": "code",
   "execution_count": 32,
   "metadata": {},
   "outputs": [
    {
     "data": {
      "text/plain": [
       "'that'"
      ]
     },
     "execution_count": 32,
     "metadata": {},
     "output_type": "execute_result"
    }
   ],
   "source": [
    "autocorrect.spell(\"thot\")"
   ]
  },
  {
   "cell_type": "markdown",
   "metadata": {},
   "source": [
    "#### Unfortantely autocorrect has trouble correct the spelling of many words. For example, it does not correct belive to believe which is a common mistake in the student answers. Since the only other packages I saw 'Jamspell' and 'pyenchant' require a unix like distribution I will attempt to build my own"
   ]
  },
  {
   "cell_type": "code",
   "execution_count": 49,
   "metadata": {},
   "outputs": [
    {
     "data": {
      "text/plain": [
       "['monicas mom askes her if she like movies and monica said yes monica liked the actors and dressing up and pretending to be someone else and she also liked rock',\n",
       " 'she ask aren’t you a little old to be playing make believe',\n",
       " 'she said she was holdiding a mop',\n",
       " 'well monica says that shes is too old for makebelieve but her mom says that your never too old for make believe ',\n",
       " 'why couldnt they just go to the store and buy some blueberries',\n",
       " 'she saidhey mom you like movies right',\n",
       " 'that she is to old for it',\n",
       " 'when monica sees her mom singing and dancing to a west side story song she said arent you a little to old to be playing make believe',\n",
       " 'monica said arent you a little old for make believe',\n",
       " 'who was the one danceing',\n",
       " 'monica says arent you a little to old to be playing make believe',\n",
       " 'your to old to be purtending mam',\n",
       " 'she asks if her moms not a little too old to make believe',\n",
       " 'arent you to old to play pretend ',\n",
       " 'you are to old for make bleave',\n",
       " '¨ aren´t you a little to old to be playing make   believe¨',\n",
       " 'arnt you a to old to make belive',\n",
       " 'she saysarent you a little to old to be playing make believe',\n",
       " 'are you a bit old to play make believe',\n",
       " 'when monica saw her mom singing and dancing she thot she was to old to to play',\n",
       " 'what monica asks her mom when she sees her singing and dancing is monica asks her mom stilldancing in the kitchen pretending to be a star',\n",
       " 'in the begging of the story monica ask her mother when she sees her singing and dancing to a west side story song at the begging of the story wasarent you a little to old be play make believe',\n",
       " 'the thing monica asks her mother when she sees her singing and dancing to a west side story song at the beginning of the story is arent you to old',\n",
       " 'what monica ask her mom when sees her singing is arent you a little to old to be playing make believe',\n",
       " 'the thing that monica asks her mother when she sees her singing and dancing to a west side story song at the beginning of the story is why cant we go to the story instead of going to the country to pick them',\n",
       " 'the thing monica asked her mother when she sees hersinging and dancing to a west side story song at the beginning of the story is arent you a little old to be playing make believe',\n",
       " 'thesinging and dancing to a west side story song at the beginning of the story ishermotherlovewestsidestory',\n",
       " 'monica ask her mother she sees her singing and dancing to a west side story song at the beginning ',\n",
       " 'the thing monica ask her mother when she sees her singing anddancing to a west side story song at the beginning of the story is arent you a little to old to play make believe',\n",
       " ' monica ask her mother when she was in the kitchen danceing to marie story do you like movies ',\n",
       " 'the thing monica asks her mother when she sees her singing and dancing to a west side story song at the beginning of the story is arent you a little old to play make believe',\n",
       " ' because she likes it',\n",
       " 'that she is probbly thinking that she can sing better than her mom ',\n",
       " 'arentyou to old to be playing make belive',\n",
       " '“aren’t you a little old to be playing make believe”',\n",
       " 'why are you playing makebeileve that is for childeren',\n",
       " 'she said “yeah…but i’m eleven i’m allowed to do this”',\n",
       " 'arent you a little old to be playing make believe',\n",
       " 'she ask for microphoneddddddddddddddddddddddddddddddddddddddddddddddddddddddddd',\n",
       " 'the help clean the house ',\n",
       " 'are you a little old to be playing make believe',\n",
       " 'she asked arent you a little old to be playing make believe',\n",
       " 'she says who making belive now',\n",
       " 'monica asked her mother arent you a little old to be playing make belive',\n",
       " 'monica asked her mother “aren’t you a little old to be playing make believe”',\n",
       " 'she made an animated version of west side story which monica loved',\n",
       " 'monica asked why here mother was playing make believe and she said she was to old to play acting',\n",
       " 'what monica asked her mother was are you a little too old for make belieive also said in the text“aren’t you a little old to be playing make believe”',\n",
       " 'she says she liks rock',\n",
       " 'monica asked her motherbecause she thought that her mother was to old to be a make believeand she also thought that her mother was also to old to be dancing and singingand also that he was to old to be dancing and singing at her age',\n",
       " 'monica asked her mother when she sees her singing and dancing  arent you a little bit old to be playing pretend',\n",
       " 'monica asked her mother stop make believing because in the passage it says  mom arent you too old to make believe ',\n",
       " 'that she was holding the dust mop like a star while singing into the dust mop',\n",
       " 'monica asks her mother arent you a little too old to be playing make believe',\n",
       " 'at the begening of the storey she said that her mom annoyed her a lot',\n",
       " 'monica asked her mom if she was a little to old to be playing make believe  ',\n",
       " 'monica asked her mother if she was too old to be playing make believe as said in the text“aren’t you a little old to be playing make believe she asked this because she stopped playing make believe when she was young and her mom was older than her',\n",
       " 'she asked herwhy dont we just go to the store',\n",
       " 'monica ask her mother when she sees her singing and dancingarent you a little to old to make believe',\n",
       " 'she said whos making believe now',\n",
       " 'monica says  arent you too old to be playing make believe  i know this because the article says  arent you too old to be playing make believe   ',\n",
       " 'arent you a little old to be playing make believe is what monica asks when she sees her mom singing and dancing',\n",
       " 'what does her mother she whonts to go houm',\n",
       " 'monica sead we going where',\n",
       " 'a old farmer',\n",
       " 'monica says  arentyou a little old to be playing make make believe imyselfhad givenup on play time ',\n",
       " 'are we going to pik beubarys agan i know this becos the pasig sas',\n",
       " 'she said to her mom are you to old for playing pretend',\n",
       " 'arent you a little bit old to be playing make believe',\n",
       " 'she asks her arent you a little old to be playing make believe ',\n",
       " 'she said you now your nine',\n",
       " 'she was nervase and diddent think she could do it she mite quit and could it do it',\n",
       " 'monica ask her mom to stop singing when she hers her in the kichion because she thinks she is to old to sing',\n",
       " 'according to the text monica ask her mom could she stop because she wasbeing tokiddies because she was pretending to be a singeraccording to paragraph 1 it said thati myself had given up on play acting when i was nine it was kid’s stuff and i didn’t feel very much like a kid anymore my mother however seemed to have absorbed everything about childhood that i’d left behind now she was dancing around the living room with the handle of a dust mop in her hand held at an angle like a rock star’s microphone singingfor example if you would be her son or daughter you wold be creeped out seeing your mom dancing with stuff',\n",
       " ' monica asked her mother when she sees her singing and dancing she says arent you a little to old to be playing make belive',\n",
       " 'what monica asks her mom is aren´t you a little old to be playing with make belivepar  1',\n",
       " 'monica asked arent you a little old to be playing make believe',\n",
       " 'monica asked her mother arent you to old to be make belive her mother at the end anwsered the question and her anwser is you dont have to be young to play make belive',\n",
       " 'she says that´s make beleive',\n",
       " 'monica asked her mom if she could just go to the stor to get some blue berryies ',\n",
       " 'monica asked her mom arent you a little old playing make believepar1 if i talked to my mom like that i would get in trouble for being disrespectful ',\n",
       " ' i’d caught my mother in the middle of a very animated version of the song west side story i loved that song',\n",
       " 'monica asks her mother arentyou a little to old to be playing make believe because she thinks playing make believe is for little kids',\n",
       " 'according to the story monica asks her mom if she was a little old to be pretending to be a rock star in the first paragraph',\n",
       " 'monica ask her mom arent you a little to old to be playing make believe when her mom was dancing with the dust mop',\n",
       " ' monica were going blueberry picking after ',\n",
       " 'she asks he mother to stop singing and dancing ',\n",
       " 'arent you too old to play make believe',\n",
       " 'you love the song west side story',\n",
       " 'arent you a littlie old to be playing make believe',\n",
       " 'your to old',\n",
       " 'arent you a little to old to be playing make  believe ',\n",
       " 'monica asks her mother arent you a little old to be playing make believe',\n",
       " 'arent you a little old to play make believe',\n",
       " 'arent you a little old to do make believe',\n",
       " '',\n",
       " '“aren’t you a little old to be playing make believe”',\n",
       " 'we are going to pick some berrys',\n",
       " 'he saw craziness',\n",
       " 'whos making believe now',\n",
       " '',\n",
       " 'arent you a little old to be playing make believe',\n",
       " 'nothing',\n",
       " 'arent you a little old to be playing make believe',\n",
       " 'why are you doing that you are an adult',\n",
       " 'arent you to old to play make believe',\n",
       " 'whos making believe now',\n",
       " 'she said what am i slave labor',\n",
       " 'that is she too old to play make believe',\n",
       " 'she asked arent you a little old to be playing make believe',\n",
       " 'she sees her humming a few lines of the song',\n",
       " 'arent you a little old to be playing make believe',\n",
       " 'she said that isnt she a little to old to be playing make believe',\n",
       " 'she sees her humming a few lines of the song',\n",
       " 'she said that though she stopped',\n",
       " 'arent you a little to old to be playing make believe',\n",
       " 'to please stopquit',\n",
       " 'monica asks her mom arent you a little too old to be playing make believe',\n",
       " 'arent you a little too old to be playing make believe',\n",
       " 'arent you a little old to be playing make believe',\n",
       " 'monica asked her mother ',\n",
       " 'monica asks her mother arent youlittle old to be playing make believe when she sees her in the beginning of the story',\n",
       " 'arent you to old to be playing make believe',\n",
       " 'she asks her mother  arent you a little too old for make believe',\n",
       " 'monica asked her mom arent you a little to old to be playing make believe',\n",
       " 'monica asked her mom what she was doing her mom said dancing to music',\n",
       " 'way am i slave labor',\n",
       " 'arent you a little old to be playing make believe',\n",
       " 'monica asks that your dancing around with a mop like a micro phone and her mother stops',\n",
       " 'arent you a little to old to be doing that',\n",
       " 'though',\n",
       " 'heymonica do you like movies some people make a living out of playing make believe',\n",
       " 'arent you too old for make believe',\n",
       " 'monica asks her mom arent you a little old to be playing make believe ',\n",
       " ' arent you a little old to play make believe',\n",
       " 'monica asked her mother arent you a little old to be playing make believe',\n",
       " 'to stop',\n",
       " 'she was dancing around with a broom',\n",
       " 'arent you a little old to play make belive',\n",
       " 'shetells her to stop',\n",
       " 'arent you to old to be playing make bleave',\n",
       " 'she think her mom is to old for movies',\n",
       " 'arent you a little to old to be playing make belive',\n",
       " 'hay monica you like movies right',\n",
       " 'she asked her to stop singing and she stoped',\n",
       " 'mad',\n",
       " 'she said now shes dancing around in the kitchen then she stopped',\n",
       " 'arent you a little old to be playing make believe',\n",
       " 'arent you a little old to be making believe',\n",
       " 'arent you a little to old to play make bielive ',\n",
       " ' were what ',\n",
       " 'she says arent you to old for make believe',\n",
       " 'whos making belive now',\n",
       " 'if they can get blueberrys at the store',\n",
       " 'monica asked her mom arent you a little old to be playing make believe',\n",
       " 'moniac ask her mother “aren’t you a little old to be playing make believe”',\n",
       " 'when monica sees her mother singing and dancing to a west side story song at the beginning of the story she said arent you to old to be playing make beleve to her mom',\n",
       " '“aren’t you a little old to be playing make believe”',\n",
       " '“aren’t you a little old to be playing make believe”',\n",
       " 'monica ask here is she to old to be hearing that ',\n",
       " 'she asked arent you a little too old to be playing make believe',\n",
       " '“aren’t you a little old to be playing make believe”i myself had given up on play acting when i was nine it was kid’s stuff and i didn’t feel very much like a kid anymore my mother however seemed to have absorbed everything about childhood that i’d left behind now she was dancing around the living room with the handle of a dust mop in her hand held at an angle like a rock star’s microphone singingwhen i said that though she stopped“hey monica you like movies right some people make a living out of playing make believe”she wasn’t wrong i did like movies and actors did make a living dressing up and pretending they were someone else the fact that mom was right annoyed me i didn’t say anything but picked up a stack of magazines that was on the kitchen floor and put it on the table“thanks honey i don’t think this dust mop could handle those” mom hummed a few lines of the music she had oni liked rock best and she liked musicals but today was west side story which i love',\n",
       " 'monica asked her mom arent you a little old to be playing make be',\n",
       " 'that if she is a little to old to be playing make believe ',\n",
       " 'if she is a little to old to be playing make belive',\n",
       " 'she like it',\n",
       " 'arent you a little to to old to be playing make believe',\n",
       " 'i tek is a book bikws i no',\n",
       " 'arent you a little old to be playing make   believe',\n",
       " 'monica says in the beginning of the story is arent you to old for make believe she says that because she thinks that make believe is for kids and that is is to old for them',\n",
       " 'well the story is like a nonfictoin storyand when monicas mother is somewhere',\n",
       " '“i got stung” i said and suddenly needed a hug i almost tipped over my harvest but jumped over it before kicking the pail',\n",
       " 'arent you to old to make balieve',\n",
       " '“aren’t you a little old to be playing make believe”',\n",
       " 'that monica ask her mom that to sing and danicing',\n",
       " 'she asks if she was a little to old for make believe ',\n",
       " 'she seidanglelike a rock microphone singing',\n",
       " 'monica said  arent you a little to old to be playing make believe ',\n",
       " 'arent you a little old to be playing make believe',\n",
       " 'why are you singing ',\n",
       " '“we’re what”',\n",
       " 'arent you a little to old to be playing make believe',\n",
       " 'what type of music do you like',\n",
       " 'arent you a little to old to be playing make belive ',\n",
       " 'arent you a little to old to be playing make believe',\n",
       " 'arent you too old to be playing make beleive',\n",
       " 'she likes rock asks what song shes listing to',\n",
       " 'whos make believing now',\n",
       " 'are too old to be playing make believe',\n",
       " 'she tells her mom i quit make belive when i was 11',\n",
       " 'monica asked her if she was to old to be playing make believe',\n",
       " 'will you stop singing',\n",
       " 'at the beginning of the story monica ask her mother arent you to old to be playing make believe',\n",
       " 'grown ups do not play make belive',\n",
       " 'she asked if she was to old to play make believe',\n",
       " 'because she might wanted to dance with her mother',\n",
       " 'she asked her momarent you a little old for make believewhere can i find this information in paragraph1',\n",
       " 'she asked her arent you a little to old to be playingmake believe',\n",
       " 'she asked arent you a little to old to playin pretend',\n",
       " 'arent you a little bit old to be playing mak believe',\n",
       " 'arent you to old to play make believe ',\n",
       " 'she asks why dont we go to the store to get blueberries',\n",
       " 'when monica sees her mom dancing she asks her  arent you a little to old to be playing make believe',\n",
       " 'she asked her mother arent you a little old to be playing make believe',\n",
       " 'what monica asks her mother is that if she is to old to be playing make believe',\n",
       " 'hey monica you like movies right',\n",
       " 'arent you to old to be play acting',\n",
       " 'to stop',\n",
       " 'stop playing',\n",
       " 'if it was buetiful song',\n",
       " 'why are you singing',\n",
       " 'bluederes',\n",
       " 'she fills happy',\n",
       " 'you sing great',\n",
       " 'arent you a little bit too old for make believe',\n",
       " 'hey monica you like movies',\n",
       " 'a',\n",
       " 'ithinkmonicastartedtolaugh',\n",
       " 'they were going to pick blue berrys',\n",
       " 'see now you are playing make belive',\n",
       " 'whos making make belive now',\n",
       " 'arent you too old to play make believe',\n",
       " 'are you a little to old be playing make belive',\n",
       " 'are you to old to sing',\n",
       " 'aren you little old to be playing make belive',\n",
       " 'are you a little old to be playing make believe',\n",
       " 'it says she liked rock best but i didnt see what she said to her mom',\n",
       " 'her mom said that they where going to go blueberry picking and monica said where doing what',\n",
       " 'monica asks her mom arent you a little old to be playing make believe”',\n",
       " 'she told her morther that she was done',\n",
       " 'monica asked her mother when she seen her mother singing and dancing at the beginning of the story is arent you to old to be playing make believe',\n",
       " '',\n",
       " 'are you to old for mack beleave',\n",
       " '',\n",
       " 'arent you a little to old to be playing make believe ',\n",
       " 'are you to old to playmake be lave',\n",
       " 'at the beginning of the story when monica sees her mom singing and dancing monica asks arent you a little to old to be playing make believe',\n",
       " 'why her mom is dancing and singing',\n",
       " 'can we go to the store',\n",
       " 'arent you a little to old to be making make   believe',\n",
       " 'monica ask her mother why don’t we just go to the store',\n",
       " 'she said id caught my mother in the middle of a very animated version of the song maria',\n",
       " 'monica ask her mother if she like movies',\n",
       " 'she says she thinks her mom is being childish']"
      ]
     },
     "execution_count": 49,
     "metadata": {},
     "output_type": "execute_result"
    }
   ],
   "source": [
    "np_q1_answers"
   ]
  },
  {
   "cell_type": "code",
   "execution_count": 36,
   "metadata": {
    "collapsed": true
   },
   "outputs": [],
   "source": [
    "from nltk.corpus.reader import wordnet as wn"
   ]
  },
  {
   "cell_type": "code",
   "execution_count": 54,
   "metadata": {},
   "outputs": [],
   "source": [
    "wn.Synset?"
   ]
  },
  {
   "cell_type": "code",
   "execution_count": 38,
   "metadata": {},
   "outputs": [],
   "source": [
    "\"Peter Norvig's spelling corrector\"\n",
    "import re\n",
    "from collections import Counter\n",
    "\n",
    "def words(text): return re.findall(r'\\w+', text.lower())\n",
    "\n",
    "WORDS = Counter(words(open('big.txt').read()))\n",
    "\n",
    "def P(word, N=sum(WORDS.values())): \n",
    "    \"Probability of `word`.\"\n",
    "    return WORDS[word] / N\n",
    "\n",
    "def correction(word): \n",
    "    \"Most probable spelling correction for word.\"\n",
    "    return max(candidates(word), key=P)\n",
    "\n",
    "def candidates(word): \n",
    "    \"Generate possible spelling corrections for word.\"\n",
    "    return (known([word]) or known(edits1(word)) or known(edits2(word)) or [word])\n",
    "\n",
    "def known(words): \n",
    "    \"The subset of `words` that appear in the dictionary of WORDS.\"\n",
    "    return set(w for w in words if w in WORDS)\n",
    "\n",
    "def edits1(word):\n",
    "    \"All edits that are one edit away from `word`.\"\n",
    "    letters    = 'abcdefghijklmnopqrstuvwxyz'\n",
    "    splits     = [(word[:i], word[i:])    for i in range(len(word) + 1)]\n",
    "    deletes    = [L + R[1:]               for L, R in splits if R]\n",
    "    transposes = [L + R[1] + R[0] + R[2:] for L, R in splits if len(R)>1]\n",
    "    replaces   = [L + c + R[1:]           for L, R in splits if R for c in letters]\n",
    "    inserts    = [L + c + R               for L, R in splits for c in letters]\n",
    "    return set(deletes + transposes + replaces + inserts)\n",
    "\n",
    "def edits2(word): \n",
    "    \"All edits that are two edits away from `word`.\"\n",
    "    return (e2 for e1 in edits1(word) for e2 in edits1(e1))"
   ]
  },
  {
   "cell_type": "code",
   "execution_count": 50,
   "metadata": {},
   "outputs": [
    {
     "data": {
      "text/plain": [
       "'believe'"
      ]
     },
     "execution_count": 50,
     "metadata": {},
     "output_type": "execute_result"
    }
   ],
   "source": [
    "correction('belive')"
   ]
  },
  {
   "cell_type": "code",
   "execution_count": 45,
   "metadata": {},
   "outputs": [
    {
     "data": {
      "text/plain": [
       "'!\"#$%&\\'()*+,-./:;<=>?@[\\\\]^_`{|}~'"
      ]
     },
     "execution_count": 45,
     "metadata": {},
     "output_type": "execute_result"
    }
   ],
   "source": [
    "string.punctuation"
   ]
  },
  {
   "cell_type": "code",
   "execution_count": 55,
   "metadata": {},
   "outputs": [
    {
     "ename": "ModuleNotFoundError",
     "evalue": "No module named 'pattern'",
     "output_type": "error",
     "traceback": [
      "\u001b[1;31m---------------------------------------------------------------------------\u001b[0m",
      "\u001b[1;31mModuleNotFoundError\u001b[0m                       Traceback (most recent call last)",
      "\u001b[1;32m<ipython-input-55-7f1d03ead999>\u001b[0m in \u001b[0;36m<module>\u001b[1;34m()\u001b[0m\n\u001b[1;32m----> 1\u001b[1;33m \u001b[1;32mfrom\u001b[0m \u001b[0mpattern\u001b[0m\u001b[1;33m.\u001b[0m\u001b[0men\u001b[0m \u001b[1;32mimport\u001b[0m \u001b[0mspelling\u001b[0m\u001b[1;33m\u001b[0m\u001b[0m\n\u001b[0m",
      "\u001b[1;31mModuleNotFoundError\u001b[0m: No module named 'pattern'"
     ]
    }
   ],
   "source": [
    "from pattern.en import spelling"
   ]
  },
  {
   "cell_type": "code",
   "execution_count": 69,
   "metadata": {},
   "outputs": [],
   "source": [
    "q1_sentences = []\n",
    "for sentence in np_q1_answers:\n",
    "    word_list = sentence.split()\n",
    "    sent = ''\n",
    "    for word in word_list:\n",
    "        if word in WORDS.keys():\n",
    "            sent += word + ' '\n",
    "        else:\n",
    "            sent += correction(word) + ' '\n",
    "    sent = sent.strip()\n",
    "    q1_sentences.append(sent)\n",
    "            \n",
    "            "
   ]
  },
  {
   "cell_type": "code",
   "execution_count": 71,
   "metadata": {},
   "outputs": [
    {
     "data": {
      "text/plain": [
       "['monicas mom askes her if she like movies and monica said yes monica liked the actors and dressing up and pretending to be someone else and she also liked rock',\n",
       " 'she ask aren’t you a little old to be playing make believe',\n",
       " 'she said she was holdiding a mop',\n",
       " 'well monica says that shes is too old for makebelieve but her mom says that your never too old for make believe ',\n",
       " 'why couldnt they just go to the store and buy some blueberries',\n",
       " 'she saidhey mom you like movies right',\n",
       " 'that she is to old for it',\n",
       " 'when monica sees her mom singing and dancing to a west side story song she said arent you a little to old to be playing make believe',\n",
       " 'monica said arent you a little old for make believe',\n",
       " 'who was the one danceing',\n",
       " 'monica says arent you a little to old to be playing make believe',\n",
       " 'your to old to be purtending mam',\n",
       " 'she asks if her moms not a little too old to make believe',\n",
       " 'arent you to old to play pretend ',\n",
       " 'you are to old for make bleave',\n",
       " '¨ aren´t you a little to old to be playing make   believe¨',\n",
       " 'arnt you a to old to make belive',\n",
       " 'she saysarent you a little to old to be playing make believe',\n",
       " 'are you a bit old to play make believe',\n",
       " 'when monica saw her mom singing and dancing she thot she was to old to to play',\n",
       " 'what monica asks her mom when she sees her singing and dancing is monica asks her mom stilldancing in the kitchen pretending to be a star',\n",
       " 'in the begging of the story monica ask her mother when she sees her singing and dancing to a west side story song at the begging of the story wasarent you a little to old be play make believe',\n",
       " 'the thing monica asks her mother when she sees her singing and dancing to a west side story song at the beginning of the story is arent you to old',\n",
       " 'what monica ask her mom when sees her singing is arent you a little to old to be playing make believe',\n",
       " 'the thing that monica asks her mother when she sees her singing and dancing to a west side story song at the beginning of the story is why cant we go to the story instead of going to the country to pick them',\n",
       " 'the thing monica asked her mother when she sees hersinging and dancing to a west side story song at the beginning of the story is arent you a little old to be playing make believe',\n",
       " 'thesinging and dancing to a west side story song at the beginning of the story ishermotherlovewestsidestory',\n",
       " 'monica ask her mother she sees her singing and dancing to a west side story song at the beginning ',\n",
       " 'the thing monica ask her mother when she sees her singing anddancing to a west side story song at the beginning of the story is arent you a little to old to play make believe',\n",
       " ' monica ask her mother when she was in the kitchen danceing to marie story do you like movies ',\n",
       " 'the thing monica asks her mother when she sees her singing and dancing to a west side story song at the beginning of the story is arent you a little old to play make believe',\n",
       " ' because she likes it',\n",
       " 'that she is probbly thinking that she can sing better than her mom ',\n",
       " 'arentyou to old to be playing make belive',\n",
       " '“aren’t you a little old to be playing make believe”',\n",
       " 'why are you playing makebeileve that is for childeren',\n",
       " 'she said “yeah…but i’m eleven i’m allowed to do this”',\n",
       " 'arent you a little old to be playing make believe',\n",
       " 'she ask for microphoneddddddddddddddddddddddddddddddddddddddddddddddddddddddddd',\n",
       " 'the help clean the house ',\n",
       " 'are you a little old to be playing make believe',\n",
       " 'she asked arent you a little old to be playing make believe',\n",
       " 'she says who making belive now',\n",
       " 'monica asked her mother arent you a little old to be playing make belive',\n",
       " 'monica asked her mother “aren’t you a little old to be playing make believe”',\n",
       " 'she made an animated version of west side story which monica loved',\n",
       " 'monica asked why here mother was playing make believe and she said she was to old to play acting',\n",
       " 'what monica asked her mother was are you a little too old for make belieive also said in the text“aren’t you a little old to be playing make believe”',\n",
       " 'she says she liks rock',\n",
       " 'monica asked her motherbecause she thought that her mother was to old to be a make believeand she also thought that her mother was also to old to be dancing and singingand also that he was to old to be dancing and singing at her age',\n",
       " 'monica asked her mother when she sees her singing and dancing  arent you a little bit old to be playing pretend',\n",
       " 'monica asked her mother stop make believing because in the passage it says  mom arent you too old to make believe ',\n",
       " 'that she was holding the dust mop like a star while singing into the dust mop',\n",
       " 'monica asks her mother arent you a little too old to be playing make believe',\n",
       " 'at the begening of the storey she said that her mom annoyed her a lot',\n",
       " 'monica asked her mom if she was a little to old to be playing make believe  ',\n",
       " 'monica asked her mother if she was too old to be playing make believe as said in the text“aren’t you a little old to be playing make believe she asked this because she stopped playing make believe when she was young and her mom was older than her',\n",
       " 'she asked herwhy dont we just go to the store',\n",
       " 'monica ask her mother when she sees her singing and dancingarent you a little to old to make believe',\n",
       " 'she said whos making believe now',\n",
       " 'monica says  arent you too old to be playing make believe  i know this because the article says  arent you too old to be playing make believe   ',\n",
       " 'arent you a little old to be playing make believe is what monica asks when she sees her mom singing and dancing',\n",
       " 'what does her mother she whonts to go houm',\n",
       " 'monica sead we going where',\n",
       " 'a old farmer',\n",
       " 'monica says  arentyou a little old to be playing make make believe imyselfhad givenup on play time ',\n",
       " 'are we going to pik beubarys agan i know this becos the pasig sas',\n",
       " 'she said to her mom are you to old for playing pretend',\n",
       " 'arent you a little bit old to be playing make believe',\n",
       " 'she asks her arent you a little old to be playing make believe ',\n",
       " 'she said you now your nine',\n",
       " 'she was nervase and diddent think she could do it she mite quit and could it do it',\n",
       " 'monica ask her mom to stop singing when she hers her in the kichion because she thinks she is to old to sing',\n",
       " 'according to the text monica ask her mom could she stop because she wasbeing tokiddies because she was pretending to be a singeraccording to paragraph 1 it said thati myself had given up on play acting when i was nine it was kid’s stuff and i didn’t feel very much like a kid anymore my mother however seemed to have absorbed everything about childhood that i’d left behind now she was dancing around the living room with the handle of a dust mop in her hand held at an angle like a rock star’s microphone singingfor example if you would be her son or daughter you wold be creeped out seeing your mom dancing with stuff',\n",
       " ' monica asked her mother when she sees her singing and dancing she says arent you a little to old to be playing make belive',\n",
       " 'what monica asks her mom is aren´t you a little old to be playing with make belivepar  1',\n",
       " 'monica asked arent you a little old to be playing make believe',\n",
       " 'monica asked her mother arent you to old to be make belive her mother at the end anwsered the question and her anwser is you dont have to be young to play make belive',\n",
       " 'she says that´s make beleive',\n",
       " 'monica asked her mom if she could just go to the stor to get some blue berryies ',\n",
       " 'monica asked her mom arent you a little old playing make believepar1 if i talked to my mom like that i would get in trouble for being disrespectful ',\n",
       " ' i’d caught my mother in the middle of a very animated version of the song west side story i loved that song',\n",
       " 'monica asks her mother arentyou a little to old to be playing make believe because she thinks playing make believe is for little kids',\n",
       " 'according to the story monica asks her mom if she was a little old to be pretending to be a rock star in the first paragraph',\n",
       " 'monica ask her mom arent you a little to old to be playing make believe when her mom was dancing with the dust mop',\n",
       " ' monica were going blueberry picking after ',\n",
       " 'she asks he mother to stop singing and dancing ',\n",
       " 'arent you too old to play make believe',\n",
       " 'you love the song west side story',\n",
       " 'arent you a littlie old to be playing make believe',\n",
       " 'your to old',\n",
       " 'arent you a little to old to be playing make  believe ',\n",
       " 'monica asks her mother arent you a little old to be playing make believe',\n",
       " 'arent you a little old to play make believe',\n",
       " 'arent you a little old to do make believe',\n",
       " '',\n",
       " '“aren’t you a little old to be playing make believe”',\n",
       " 'we are going to pick some berrys',\n",
       " 'he saw craziness',\n",
       " 'whos making believe now',\n",
       " '',\n",
       " 'arent you a little old to be playing make believe',\n",
       " 'nothing',\n",
       " 'arent you a little old to be playing make believe',\n",
       " 'why are you doing that you are an adult',\n",
       " 'arent you to old to play make believe',\n",
       " 'whos making believe now',\n",
       " 'she said what am i slave labor',\n",
       " 'that is she too old to play make believe',\n",
       " 'she asked arent you a little old to be playing make believe',\n",
       " 'she sees her humming a few lines of the song',\n",
       " 'arent you a little old to be playing make believe',\n",
       " 'she said that isnt she a little to old to be playing make believe',\n",
       " 'she sees her humming a few lines of the song',\n",
       " 'she said that though she stopped',\n",
       " 'arent you a little to old to be playing make believe',\n",
       " 'to please stopquit',\n",
       " 'monica asks her mom arent you a little too old to be playing make believe',\n",
       " 'arent you a little too old to be playing make believe',\n",
       " 'arent you a little old to be playing make believe',\n",
       " 'monica asked her mother ',\n",
       " 'monica asks her mother arent youlittle old to be playing make believe when she sees her in the beginning of the story',\n",
       " 'arent you to old to be playing make believe',\n",
       " 'she asks her mother  arent you a little too old for make believe',\n",
       " 'monica asked her mom arent you a little to old to be playing make believe',\n",
       " 'monica asked her mom what she was doing her mom said dancing to music',\n",
       " 'way am i slave labor',\n",
       " 'arent you a little old to be playing make believe',\n",
       " 'monica asks that your dancing around with a mop like a micro phone and her mother stops',\n",
       " 'arent you a little to old to be doing that',\n",
       " 'though',\n",
       " 'heymonica do you like movies some people make a living out of playing make believe',\n",
       " 'arent you too old for make believe',\n",
       " 'monica asks her mom arent you a little old to be playing make believe ',\n",
       " ' arent you a little old to play make believe',\n",
       " 'monica asked her mother arent you a little old to be playing make believe',\n",
       " 'to stop',\n",
       " 'she was dancing around with a broom',\n",
       " 'arent you a little old to play make belive',\n",
       " 'shetells her to stop',\n",
       " 'arent you to old to be playing make bleave',\n",
       " 'she think her mom is to old for movies',\n",
       " 'arent you a little to old to be playing make belive',\n",
       " 'hay monica you like movies right',\n",
       " 'she asked her to stop singing and she stoped',\n",
       " 'mad',\n",
       " 'she said now shes dancing around in the kitchen then she stopped',\n",
       " 'arent you a little old to be playing make believe',\n",
       " 'arent you a little old to be making believe',\n",
       " 'arent you a little to old to play make bielive ',\n",
       " ' were what ',\n",
       " 'she says arent you to old for make believe',\n",
       " 'whos making belive now',\n",
       " 'if they can get blueberrys at the store',\n",
       " 'monica asked her mom arent you a little old to be playing make believe',\n",
       " 'moniac ask her mother “aren’t you a little old to be playing make believe”',\n",
       " 'when monica sees her mother singing and dancing to a west side story song at the beginning of the story she said arent you to old to be playing make beleve to her mom',\n",
       " '“aren’t you a little old to be playing make believe”',\n",
       " '“aren’t you a little old to be playing make believe”',\n",
       " 'monica ask here is she to old to be hearing that ',\n",
       " 'she asked arent you a little too old to be playing make believe',\n",
       " '“aren’t you a little old to be playing make believe”i myself had given up on play acting when i was nine it was kid’s stuff and i didn’t feel very much like a kid anymore my mother however seemed to have absorbed everything about childhood that i’d left behind now she was dancing around the living room with the handle of a dust mop in her hand held at an angle like a rock star’s microphone singingwhen i said that though she stopped“hey monica you like movies right some people make a living out of playing make believe”she wasn’t wrong i did like movies and actors did make a living dressing up and pretending they were someone else the fact that mom was right annoyed me i didn’t say anything but picked up a stack of magazines that was on the kitchen floor and put it on the table“thanks honey i don’t think this dust mop could handle those” mom hummed a few lines of the music she had oni liked rock best and she liked musicals but today was west side story which i love',\n",
       " 'monica asked her mom arent you a little old to be playing make be',\n",
       " 'that if she is a little to old to be playing make believe ',\n",
       " 'if she is a little to old to be playing make belive',\n",
       " 'she like it',\n",
       " 'arent you a little to to old to be playing make believe',\n",
       " 'i tek is a book bikws i no',\n",
       " 'arent you a little old to be playing make   believe',\n",
       " 'monica says in the beginning of the story is arent you to old for make believe she says that because she thinks that make believe is for kids and that is is to old for them',\n",
       " 'well the story is like a nonfictoin storyand when monicas mother is somewhere',\n",
       " '“i got stung” i said and suddenly needed a hug i almost tipped over my harvest but jumped over it before kicking the pail',\n",
       " 'arent you to old to make balieve',\n",
       " '“aren’t you a little old to be playing make believe”',\n",
       " 'that monica ask her mom that to sing and danicing',\n",
       " 'she asks if she was a little to old for make believe ',\n",
       " 'she seidanglelike a rock microphone singing',\n",
       " 'monica said  arent you a little to old to be playing make believe ',\n",
       " 'arent you a little old to be playing make believe',\n",
       " 'why are you singing ',\n",
       " '“we’re what”',\n",
       " 'arent you a little to old to be playing make believe',\n",
       " 'what type of music do you like',\n",
       " 'arent you a little to old to be playing make belive ',\n",
       " 'arent you a little to old to be playing make believe',\n",
       " 'arent you too old to be playing make beleive',\n",
       " 'she likes rock asks what song shes listing to',\n",
       " 'whos make believing now',\n",
       " 'are too old to be playing make believe',\n",
       " 'she tells her mom i quit make belive when i was 11',\n",
       " 'monica asked her if she was to old to be playing make believe',\n",
       " 'will you stop singing',\n",
       " 'at the beginning of the story monica ask her mother arent you to old to be playing make believe',\n",
       " 'grown ups do not play make belive',\n",
       " 'she asked if she was to old to play make believe',\n",
       " 'because she might wanted to dance with her mother',\n",
       " 'she asked her momarent you a little old for make believewhere can i find this information in paragraph1',\n",
       " 'she asked her arent you a little to old to be playingmake believe',\n",
       " 'she asked arent you a little to old to playin pretend',\n",
       " 'arent you a little bit old to be playing mak believe',\n",
       " 'arent you to old to play make believe ',\n",
       " 'she asks why dont we go to the store to get blueberries',\n",
       " 'when monica sees her mom dancing she asks her  arent you a little to old to be playing make believe',\n",
       " 'she asked her mother arent you a little old to be playing make believe',\n",
       " 'what monica asks her mother is that if she is to old to be playing make believe',\n",
       " 'hey monica you like movies right',\n",
       " 'arent you to old to be play acting',\n",
       " 'to stop',\n",
       " 'stop playing',\n",
       " 'if it was buetiful song',\n",
       " 'why are you singing',\n",
       " 'bluederes',\n",
       " 'she fills happy',\n",
       " 'you sing great',\n",
       " 'arent you a little bit too old for make believe',\n",
       " 'hey monica you like movies',\n",
       " 'a',\n",
       " 'ithinkmonicastartedtolaugh',\n",
       " 'they were going to pick blue berrys',\n",
       " 'see now you are playing make belive',\n",
       " 'whos making make belive now',\n",
       " 'arent you too old to play make believe',\n",
       " 'are you a little to old be playing make belive',\n",
       " 'are you to old to sing',\n",
       " 'aren you little old to be playing make belive',\n",
       " 'are you a little old to be playing make believe',\n",
       " 'it says she liked rock best but i didnt see what she said to her mom',\n",
       " 'her mom said that they where going to go blueberry picking and monica said where doing what',\n",
       " 'monica asks her mom arent you a little old to be playing make believe”',\n",
       " 'she told her morther that she was done',\n",
       " 'monica asked her mother when she seen her mother singing and dancing at the beginning of the story is arent you to old to be playing make believe',\n",
       " '',\n",
       " 'are you to old for mack beleave',\n",
       " '',\n",
       " 'arent you a little to old to be playing make believe ',\n",
       " 'are you to old to playmake be lave',\n",
       " 'at the beginning of the story when monica sees her mom singing and dancing monica asks arent you a little to old to be playing make believe',\n",
       " 'why her mom is dancing and singing',\n",
       " 'can we go to the store',\n",
       " 'arent you a little to old to be making make   believe',\n",
       " 'monica ask her mother why don’t we just go to the store',\n",
       " 'she said id caught my mother in the middle of a very animated version of the song maria',\n",
       " 'monica ask her mother if she like movies',\n",
       " 'she says she thinks her mom is being childish']"
      ]
     },
     "execution_count": 71,
     "metadata": {},
     "output_type": "execute_result"
    }
   ],
   "source": [
    "np_q1_answers"
   ]
  },
  {
   "cell_type": "code",
   "execution_count": 70,
   "metadata": {},
   "outputs": [
    {
     "data": {
      "text/plain": [
       "['monica mon asked her if she like moves and monica said yes monica liked the actors and dressing up and pretending to be someone else and she also liked rock',\n",
       " 'she ask agent you a little old to be playing make believe',\n",
       " 'she said she was holding a mop',\n",
       " 'well monica says that she is too old for makebelieve but her mon says that your never too old for make believe',\n",
       " 'why couldn they just go to the store and buy some blueberries',\n",
       " 'she sidney mon you like moves right',\n",
       " 'that she is to old for it',\n",
       " 'when monica sees her mon singing and dancing to a west side story song she said agent you a little to old to be playing make believe',\n",
       " 'monica said agent you a little old for make believe',\n",
       " 'who was the one dancing',\n",
       " 'monica says agent you a little to old to be playing make believe',\n",
       " 'your to old to be pretending may',\n",
       " 'she asks if her mobs not a little too old to make believe',\n",
       " 'agent you to old to play pretend',\n",
       " 'you are to old for make leave',\n",
       " 'a agent you a little to old to be playing make believe',\n",
       " 'aunt you a to old to make believe',\n",
       " 'she saysarent you a little to old to be playing make believe',\n",
       " 'are you a bit old to play make believe',\n",
       " 'when monica saw her mon singing and dancing she that she was to old to to play',\n",
       " 'what monica asks her mon when she sees her singing and dancing is monica asks her mon stilldancing in the kitchen pretending to be a star',\n",
       " 'in the begging of the story monica ask her mother when she sees her singing and dancing to a west side story song at the begging of the story wasarent you a little to old be play make believe',\n",
       " 'the thing monica asks her mother when she sees her singing and dancing to a west side story song at the beginning of the story is agent you to old',\n",
       " 'what monica ask her mon when sees her singing is agent you a little to old to be playing make believe',\n",
       " 'the thing that monica asks her mother when she sees her singing and dancing to a west side story song at the beginning of the story is why can we go to the story instead of going to the country to pick them',\n",
       " 'the thing monica asked her mother when she sees hersinging and dancing to a west side story song at the beginning of the story is agent you a little old to be playing make believe',\n",
       " 'thesinging and dancing to a west side story song at the beginning of the story ishermotherlovewestsidestory',\n",
       " 'monica ask her mother she sees her singing and dancing to a west side story song at the beginning',\n",
       " 'the thing monica ask her mother when she sees her singing advancing to a west side story song at the beginning of the story is agent you a little to old to play make believe',\n",
       " 'monica ask her mother when she was in the kitchen dancing to marie story do you like moves',\n",
       " 'the thing monica asks her mother when she sees her singing and dancing to a west side story song at the beginning of the story is agent you a little old to play make believe',\n",
       " 'because she likes it',\n",
       " 'that she is probably thinking that she can sing better than her mon',\n",
       " 'arentyou to old to be playing make believe',\n",
       " 'parent you a little old to be playing make believe',\n",
       " 'why are you playing makebeileve that is for children',\n",
       " 'she said “yeah…but ism eleven ism allowed to do this',\n",
       " 'agent you a little old to be playing make believe',\n",
       " 'she ask for microphoneddddddddddddddddddddddddddddddddddddddddddddddddddddddddd',\n",
       " 'the help clean the house',\n",
       " 'are you a little old to be playing make believe',\n",
       " 'she asked agent you a little old to be playing make believe',\n",
       " 'she says who making believe now',\n",
       " 'monica asked her mother agent you a little old to be playing make believe',\n",
       " 'monica asked her mother parent you a little old to be playing make believe',\n",
       " 'she made an animated version of west side story which monica loved',\n",
       " 'monica asked why here mother was playing make believe and she said she was to old to play acting',\n",
       " 'what monica asked her mother was are you a little too old for make believe also said in the text“aren’t you a little old to be playing make believe',\n",
       " 'she says she like rock',\n",
       " 'monica asked her motherbecause she thought that her mother was to old to be a make believed she also thought that her mother was also to old to be dancing and singingand also that he was to old to be dancing and singing at her age',\n",
       " 'monica asked her mother when she sees her singing and dancing agent you a little bit old to be playing pretend',\n",
       " 'monica asked her mother stop make believing because in the passage it says mon agent you too old to make believe',\n",
       " 'that she was holding the dust mop like a star while singing into the dust mop',\n",
       " 'monica asks her mother agent you a little too old to be playing make believe',\n",
       " 'at the evening of the story she said that her mon annoyed her a lot',\n",
       " 'monica asked her mon if she was a little to old to be playing make believe',\n",
       " 'monica asked her mother if she was too old to be playing make believe as said in the text“aren’t you a little old to be playing make believe she asked this because she stopped playing make believe when she was young and her mon was older than her',\n",
       " 'she asked hereby dont we just go to the store',\n",
       " 'monica ask her mother when she sees her singing and dancingarent you a little to old to make believe',\n",
       " 'she said who making believe now',\n",
       " 'monica says agent you too old to be playing make believe i know this because the article says agent you too old to be playing make believe',\n",
       " 'agent you a little old to be playing make believe is what monica asks when she sees her mon singing and dancing',\n",
       " 'what does her mother she shouts to go hour',\n",
       " 'monica head we going where',\n",
       " 'a old farmer',\n",
       " 'monica says arentyou a little old to be playing make make believe imyselfhad given on play time',\n",
       " 'are we going to pink beubarys again i know this become the pain was',\n",
       " 'she said to her mon are you to old for playing pretend',\n",
       " 'agent you a little bit old to be playing make believe',\n",
       " 'she asks her agent you a little old to be playing make believe',\n",
       " 'she said you now your nine',\n",
       " 'she was nerve and ridden think she could do it she mine quit and could it do it',\n",
       " 'monica ask her mon to stop singing when she hers her in the fiction because she thinks she is to old to sing',\n",
       " 'according to the text monica ask her mon could she stop because she washing tokiddies because she was pretending to be a singeraccording to paragraph 1 it said that myself had given up on play acting when i was nine it was sides stuff and i didn feel very much like a kid anymore my mother however seemed to have absorbed everything about childhood that ind left behind now she was dancing around the living room with the handle of a dust mop in her hand held at an angle like a rock stars microphone singingfor example if you would be her son or daughter you would be created out seeing your mon dancing with stuff',\n",
       " 'monica asked her mother when she sees her singing and dancing she says agent you a little to old to be playing make believe',\n",
       " 'what monica asks her mon is agent you a little old to be playing with make belivepar 1',\n",
       " 'monica asked agent you a little old to be playing make believe',\n",
       " 'monica asked her mother agent you to old to be make believe her mother at the end answered the question and her answer is you dont have to be young to play make believe',\n",
       " 'she says that make believe',\n",
       " 'monica asked her mon if she could just go to the story to get some blue ferries',\n",
       " 'monica asked her mon agent you a little old playing make believepar1 if i talked to my mon like that i would get in trouble for being disrespectful',\n",
       " 'ind caught my mother in the middle of a very animated version of the song west side story i loved that song',\n",
       " 'monica asks her mother arentyou a little to old to be playing make believe because she thinks playing make believe is for little kiss',\n",
       " 'according to the story monica asks her mon if she was a little old to be pretending to be a rock star in the first paragraph',\n",
       " 'monica ask her mon agent you a little to old to be playing make believe when her mon was dancing with the dust mop',\n",
       " 'monica were going bluebeard picking after',\n",
       " 'she asks he mother to stop singing and dancing',\n",
       " 'agent you too old to play make believe',\n",
       " 'you love the song west side story',\n",
       " 'agent you a little old to be playing make believe',\n",
       " 'your to old',\n",
       " 'agent you a little to old to be playing make believe',\n",
       " 'monica asks her mother agent you a little old to be playing make believe',\n",
       " 'agent you a little old to play make believe',\n",
       " 'agent you a little old to do make believe',\n",
       " '',\n",
       " 'parent you a little old to be playing make believe',\n",
       " 'we are going to pick some merry',\n",
       " 'he saw haziness',\n",
       " 'who making believe now',\n",
       " '',\n",
       " 'agent you a little old to be playing make believe',\n",
       " 'nothing',\n",
       " 'agent you a little old to be playing make believe',\n",
       " 'why are you doing that you are an adult',\n",
       " 'agent you to old to play make believe',\n",
       " 'who making believe now',\n",
       " 'she said what am i slave labor',\n",
       " 'that is she too old to play make believe',\n",
       " 'she asked agent you a little old to be playing make believe',\n",
       " 'she sees her humming a few lines of the song',\n",
       " 'agent you a little old to be playing make believe',\n",
       " 'she said that isn she a little to old to be playing make believe',\n",
       " 'she sees her humming a few lines of the song',\n",
       " 'she said that though she stopped',\n",
       " 'agent you a little to old to be playing make believe',\n",
       " 'to please stopquit',\n",
       " 'monica asks her mon agent you a little too old to be playing make believe',\n",
       " 'agent you a little too old to be playing make believe',\n",
       " 'agent you a little old to be playing make believe',\n",
       " 'monica asked her mother',\n",
       " 'monica asks her mother agent youlittle old to be playing make believe when she sees her in the beginning of the story',\n",
       " 'agent you to old to be playing make believe',\n",
       " 'she asks her mother agent you a little too old for make believe',\n",
       " 'monica asked her mon agent you a little to old to be playing make believe',\n",
       " 'monica asked her mon what she was doing her mon said dancing to music',\n",
       " 'way am i slave labor',\n",
       " 'agent you a little old to be playing make believe',\n",
       " 'monica asks that your dancing around with a mop like a micro phone and her mother stops',\n",
       " 'agent you a little to old to be doing that',\n",
       " 'though',\n",
       " 'heymonica do you like moves some people make a living out of playing make believe',\n",
       " 'agent you too old for make believe',\n",
       " 'monica asks her mon agent you a little old to be playing make believe',\n",
       " 'agent you a little old to play make believe',\n",
       " 'monica asked her mother agent you a little old to be playing make believe',\n",
       " 'to stop',\n",
       " 'she was dancing around with a broom',\n",
       " 'agent you a little old to play make believe',\n",
       " 'shells her to stop',\n",
       " 'agent you to old to be playing make leave',\n",
       " 'she think her mon is to old for moves',\n",
       " 'agent you a little to old to be playing make believe',\n",
       " 'hay monica you like moves right',\n",
       " 'she asked her to stop singing and she stopped',\n",
       " 'mad',\n",
       " 'she said now she dancing around in the kitchen then she stopped',\n",
       " 'agent you a little old to be playing make believe',\n",
       " 'agent you a little old to be making believe',\n",
       " 'agent you a little to old to play make believe',\n",
       " 'were what',\n",
       " 'she says agent you to old for make believe',\n",
       " 'who making believe now',\n",
       " 'if they can get blueberrys at the store',\n",
       " 'monica asked her mon agent you a little old to be playing make believe',\n",
       " 'monica ask her mother parent you a little old to be playing make believe',\n",
       " 'when monica sees her mother singing and dancing to a west side story song at the beginning of the story she said agent you to old to be playing make believe to her mon',\n",
       " 'parent you a little old to be playing make believe',\n",
       " 'parent you a little old to be playing make believe',\n",
       " 'monica ask here is she to old to be hearing that',\n",
       " 'she asked agent you a little too old to be playing make believe',\n",
       " 'parent you a little old to be playing make believe myself had given up on play acting when i was nine it was sides stuff and i didn feel very much like a kid anymore my mother however seemed to have absorbed everything about childhood that ind left behind now she was dancing around the living room with the handle of a dust mop in her hand held at an angle like a rock stars microphone singingwhen i said that though she stopped“hey monica you like moves right some people make a living out of playing make believe”she want wrong i did like moves and actors did make a living dressing up and pretending they were someone else the fact that mon was right annoyed me i didn say anything but picked up a stick of magazines that was on the kitchen floor and put it on the table“thanks honey i dont think this dust mop could handle those mon hummed a few lines of the music she had on liked rock best and she liked musical but today was west side story which i love',\n",
       " 'monica asked her mon agent you a little old to be playing make be',\n",
       " 'that if she is a little to old to be playing make believe',\n",
       " 'if she is a little to old to be playing make believe',\n",
       " 'she like it',\n",
       " 'agent you a little to to old to be playing make believe',\n",
       " 'i ten is a book views i no',\n",
       " 'agent you a little old to be playing make believe',\n",
       " 'monica says in the beginning of the story is agent you to old for make believe she says that because she thinks that make believe is for kiss and that is is to old for them',\n",
       " 'well the story is like a nonfictoin strand when monica mother is somewhere',\n",
       " 'i got stung i said and suddenly needed a hug i almost tapped over my harvest but jumped over it before kicking the pail',\n",
       " 'agent you to old to make believe',\n",
       " 'parent you a little old to be playing make believe',\n",
       " 'that monica ask her mon that to sing and dancing',\n",
       " 'she asks if she was a little to old for make believe',\n",
       " 'she seidanglelike a rock microphone singing',\n",
       " 'monica said agent you a little to old to be playing make believe',\n",
       " 'agent you a little old to be playing make believe',\n",
       " 'why are you singing',\n",
       " 'were what',\n",
       " 'agent you a little to old to be playing make believe',\n",
       " 'what type of music do you like',\n",
       " 'agent you a little to old to be playing make believe',\n",
       " 'agent you a little to old to be playing make believe',\n",
       " 'agent you too old to be playing make believe',\n",
       " 'she likes rock asks what song she listing to',\n",
       " 'who make believing now',\n",
       " 'are too old to be playing make believe',\n",
       " 'she tells her mon i quit make believe when i was 11',\n",
       " 'monica asked her if she was to old to be playing make believe',\n",
       " 'will you stop singing',\n",
       " 'at the beginning of the story monica ask her mother agent you to old to be playing make believe',\n",
       " 'grown up do not play make believe',\n",
       " 'she asked if she was to old to play make believe',\n",
       " 'because she might wanted to dance with her mother',\n",
       " 'she asked her moment you a little old for make believewhere can i find this information in paragraph',\n",
       " 'she asked her agent you a little to old to be playingmake believe',\n",
       " 'she asked agent you a little to old to plain pretend',\n",
       " 'agent you a little bit old to be playing may believe',\n",
       " 'agent you to old to play make believe',\n",
       " 'she asks why dont we go to the store to get blueberries',\n",
       " 'when monica sees her mon dancing she asks her agent you a little to old to be playing make believe',\n",
       " 'she asked her mother agent you a little old to be playing make believe',\n",
       " 'what monica asks her mother is that if she is to old to be playing make believe',\n",
       " 'hey monica you like moves right',\n",
       " 'agent you to old to be play acting',\n",
       " 'to stop',\n",
       " 'stop playing',\n",
       " 'if it was beautiful song',\n",
       " 'why are you singing',\n",
       " 'bleeders',\n",
       " 'she fills happy',\n",
       " 'you sing great',\n",
       " 'agent you a little bit too old for make believe',\n",
       " 'hey monica you like moves',\n",
       " 'a',\n",
       " 'ithinkmonicastartedtolaugh',\n",
       " 'they were going to pick blue merry',\n",
       " 'see now you are playing make believe',\n",
       " 'who making make believe now',\n",
       " 'agent you too old to play make believe',\n",
       " 'are you a little to old be playing make believe',\n",
       " 'are you to old to sing',\n",
       " 'aren you little old to be playing make believe',\n",
       " 'are you a little old to be playing make believe',\n",
       " 'it says she liked rock best but i didn see what she said to her mon',\n",
       " 'her mon said that they where going to go bluebeard picking and monica said where doing what',\n",
       " 'monica asks her mon agent you a little old to be playing make believe',\n",
       " 'she told her mother that she was done',\n",
       " 'monica asked her mother when she seen her mother singing and dancing at the beginning of the story is agent you to old to be playing make believe',\n",
       " '',\n",
       " 'are you to old for mack leave',\n",
       " '',\n",
       " 'agent you a little to old to be playing make believe',\n",
       " 'are you to old to playmate be have',\n",
       " 'at the beginning of the story when monica sees her mon singing and dancing monica asks agent you a little to old to be playing make believe',\n",
       " 'why her mon is dancing and singing',\n",
       " 'can we go to the store',\n",
       " 'agent you a little to old to be making make believe',\n",
       " 'monica ask her mother why dont we just go to the store',\n",
       " 'she said id caught my mother in the middle of a very animated version of the song maria',\n",
       " 'monica ask her mother if she like moves',\n",
       " 'she says she thinks her mon is being childish']"
      ]
     },
     "execution_count": 70,
     "metadata": {},
     "output_type": "execute_result"
    }
   ],
   "source": [
    "q1_sentences"
   ]
  },
  {
   "cell_type": "code",
   "execution_count": 73,
   "metadata": {},
   "outputs": [
    {
     "data": {
      "text/plain": [
       "False"
      ]
     },
     "execution_count": 73,
     "metadata": {},
     "output_type": "execute_result"
    }
   ],
   "source": [
    "'belive' in WORDS.keys()"
   ]
  },
  {
   "cell_type": "code",
   "execution_count": 74,
   "metadata": {},
   "outputs": [
    {
     "data": {
      "text/plain": [
       "'believe'"
      ]
     },
     "execution_count": 74,
     "metadata": {},
     "output_type": "execute_result"
    }
   ],
   "source": [
    "correction('belive')"
   ]
  },
  {
   "cell_type": "code",
   "execution_count": null,
   "metadata": {
    "collapsed": true
   },
   "outputs": [],
   "source": []
  }
 ],
 "metadata": {
  "kernelspec": {
   "display_name": "Python 3",
   "language": "python",
   "name": "python3"
  },
  "language_info": {
   "codemirror_mode": {
    "name": "ipython",
    "version": 3
   },
   "file_extension": ".py",
   "mimetype": "text/x-python",
   "name": "python",
   "nbconvert_exporter": "python",
   "pygments_lexer": "ipython3",
   "version": "3.6.2"
  }
 },
 "nbformat": 4,
 "nbformat_minor": 2
}
