{
 "cells": [
  {
   "cell_type": "markdown",
   "metadata": {},
   "source": [
    "## Sampling and preparing"
   ]
  },
  {
   "cell_type": "code",
   "execution_count": 1,
   "metadata": {
    "collapsed": true
   },
   "outputs": [],
   "source": [
    "import pandas as pd\n",
    "import numpy as np\n",
    "from sklearn.model_selection import train_test_split\n",
    "import random\n",
    "import scipy.stats as stats\n",
    "import matplotlib.pyplot as plt\n",
    "%matplotlib inline"
   ]
  },
  {
   "cell_type": "code",
   "execution_count": 10,
   "metadata": {
    "collapsed": false
   },
   "outputs": [],
   "source": [
    "control = pd.read_csv('Tests for correlation/control_assignments_results_revised2.csv').set_index('student_id')\n",
    "test = pd.read_csv('Tests for correlation/test_assignments_results_revised2.csv').set_index('student_id')"
   ]
  },
  {
   "cell_type": "code",
   "execution_count": 16,
   "metadata": {
    "collapsed": false
   },
   "outputs": [
    {
     "data": {
      "text/plain": [
       "7.0    769\n",
       "0.0    343\n",
       "6.0     24\n",
       "1.0     16\n",
       "2.0     16\n",
       "5.0     10\n",
       "3.0     10\n",
       "4.0      8\n",
       "Name: mc_answered, dtype: int64"
      ]
     },
     "execution_count": 16,
     "metadata": {},
     "output_type": "execute_result"
    }
   ],
   "source": [
    "control['mc_answered'].value_counts()"
   ]
  },
  {
   "cell_type": "code",
   "execution_count": 12,
   "metadata": {
    "collapsed": false
   },
   "outputs": [
    {
     "data": {
      "text/plain": [
       "Index([u'count', u'assignment_id', u'grade', u'submitted_or_active',\n",
       "       u'class_code', u'product_id', u'time_assignment_started',\n",
       "       u'time_assignment_submitted', u'question_id_11459_answer',\n",
       "       u'question_id_11459_score', u'question_id_11460_answer',\n",
       "       u'question_id_11460_score', u'question_id_11461_answer',\n",
       "       u'question_id_11461_score', u'mc_question_count', u'mc_answered',\n",
       "       u'mc_correct', u'Unnamed: 18', u'Unnamed: 19', u'Unnamed: 20',\n",
       "       u'Unnamed: 21', u'Unnamed: 22', u'Unnamed: 23', u'Unnamed: 24',\n",
       "       u'Unnamed: 25', u'Unnamed: 26', u'Unnamed: 27', u'Unnamed: 28',\n",
       "       u'Unnamed: 29', u'Unnamed: 30', u'Unnamed: 31', u'Unnamed: 32',\n",
       "       u'Unnamed: 33', u'Unnamed: 34', u'Unnamed: 35', u'Unnamed: 36',\n",
       "       u'Unnamed: 37', u'Unnamed: 38', u'Unnamed: 39', u'Unnamed: 40',\n",
       "       u'Unnamed: 41', u'Unnamed: 42', u'Unnamed: 43', u'Unnamed: 44',\n",
       "       u'Unnamed: 45', u'Unnamed: 46', u'Unnamed: 47', u'Unnamed: 48',\n",
       "       u'Unnamed: 49', u'Unnamed: 50', u'Unnamed: 51', u'Unnamed: 52',\n",
       "       u'Unnamed: 53', u'Unnamed: 54', u'Unnamed: 55', u'Unnamed: 56',\n",
       "       u'Unnamed: 57'],\n",
       "      dtype='object')"
      ]
     },
     "execution_count": 12,
     "metadata": {},
     "output_type": "execute_result"
    }
   ],
   "source": [
    "control.columns"
   ]
  },
  {
   "cell_type": "code",
   "execution_count": 19,
   "metadata": {
    "collapsed": false
   },
   "outputs": [],
   "source": [
    "index_questions = control[(control['mc_answered']==7.)&\\\n",
    "                          (~control['question_id_11459_score'].isna())&\\\n",
    "                          (~control['question_id_11460_score'].isna())&(~control['question_id_11459_score'].isna())].index"
   ]
  },
  {
   "cell_type": "code",
   "execution_count": 20,
   "metadata": {
    "collapsed": false
   },
   "outputs": [],
   "source": [
    "control_open = control.loc[index_questions][[u'question_id_11459_score', \n",
    "                          u'question_id_11460_score', \n",
    "                          u'question_id_11461_score']].mean(axis=1,skipna=True)\n",
    "\n",
    "# OJO: este máximo es dudoso dudoso...\n",
    "control_closed = control.loc[index_questions]['mc_correct']\\\n",
    "                             .divide(7)"
   ]
  },
  {
   "cell_type": "code",
   "execution_count": 22,
   "metadata": {
    "collapsed": false
   },
   "outputs": [
    {
     "data": {
      "text/plain": [
       "80"
      ]
     },
     "execution_count": 22,
     "metadata": {},
     "output_type": "execute_result"
    }
   ],
   "source": [
    "len(control_closed)"
   ]
  },
  {
   "cell_type": "code",
   "execution_count": 23,
   "metadata": {
    "collapsed": false
   },
   "outputs": [
    {
     "data": {
      "text/plain": [
       "(0.37456346929624762, 0.00061938032349090062)"
      ]
     },
     "execution_count": 23,
     "metadata": {},
     "output_type": "execute_result"
    }
   ],
   "source": [
    "stats.pearsonr(control_open,control_closed)"
   ]
  },
  {
   "cell_type": "code",
   "execution_count": 32,
   "metadata": {
    "collapsed": false
   },
   "outputs": [
    {
     "data": {
      "text/plain": [
       "<matplotlib.collections.PathCollection at 0x1102fd050>"
      ]
     },
     "execution_count": 32,
     "metadata": {},
     "output_type": "execute_result"
    },
    {
     "data": {
      "image/png": "[encoded data removed]",
      "text/plain": [
       "<matplotlib.figure.Figure at 0x110252050>"
      ]
     },
     "metadata": {},
     "output_type": "display_data"
    }
   ],
   "source": [
    "plt.scatter(control_closed,control_open)"
   ]
  },
  {
   "cell_type": "code",
   "execution_count": 35,
   "metadata": {
    "collapsed": false
   },
   "outputs": [
    {
     "data": {
      "text/plain": [
       "(-1.0, 0.0)"
      ]
     },
     "execution_count": 35,
     "metadata": {},
     "output_type": "execute_result"
    }
   ],
   "source": [
    "stats.pearsonr([1,2,3,4,5],[1,0,-1,-2,-3])"
   ]
  },
  {
   "cell_type": "code",
   "execution_count": 15,
   "metadata": {
    "collapsed": false
   },
   "outputs": [
    {
     "data": {
      "text/plain": [
       "<matplotlib.collections.PathCollection at 0x103229750>"
      ]
     },
     "execution_count": 15,
     "metadata": {},
     "output_type": "execute_result"
    },
    {
     "data": {
      "image/png": "[encoded data removed]",
      "text/plain": [
       "<matplotlib.figure.Figure at 0x10fd6fc90>"
      ]
     },
     "metadata": {},
     "output_type": "display_data"
    }
   ],
   "source": [
    "plt.scatter(control_open.fillna(0),control_closed.fillna(0))"
   ]
  },
  {
   "cell_type": "code",
   "execution_count": 78,
   "metadata": {
    "collapsed": false
   },
   "outputs": [],
   "source": [
    "test_open = test[[u'question_id_11459_score', \n",
    "                          u'question_id_11460_score', \n",
    "                          u'question_id_11461_score']].mean(axis=1)\n",
    "\n",
    "test_closed = test['multiple_choice_total_score']/control['multiple_choice_total_score'].max()"
   ]
  },
  {
   "cell_type": "code",
   "execution_count": null,
   "metadata": {
    "collapsed": false
   },
   "outputs": [],
   "source": []
  },
  {
   "cell_type": "code",
   "execution_count": null,
   "metadata": {
    "collapsed": true
   },
   "outputs": [],
   "source": []
  },
  {
   "cell_type": "code",
   "execution_count": 35,
   "metadata": {
    "collapsed": false
   },
   "outputs": [],
   "source": [
    "answers = pd.read_excel('litmus_results_trial1.xlsx').set_index('student_id')\n",
    "repeated_index = answers.index.value_counts()[answers.index.value_counts()>1].index.values\n",
    "answers.loc[repeated_index].to_excel('repeated_students.xlsx')\n",
    "closed_answers = pd.read_excel('litmus_results_trial2 (1).xlsx').set_index('student_id')"
   ]
  },
  {
   "cell_type": "code",
   "execution_count": 37,
   "metadata": {
    "collapsed": false
   },
   "outputs": [
    {
     "data": {
      "text/plain": [
       "1603"
      ]
     },
     "execution_count": 37,
     "metadata": {},
     "output_type": "execute_result"
    }
   ],
   "source": [
    "answers['question_id_11459_answer'].count()"
   ]
  },
  {
   "cell_type": "code",
   "execution_count": 38,
   "metadata": {
    "collapsed": false
   },
   "outputs": [
    {
     "data": {
      "text/plain": [
       "1541"
      ]
     },
     "execution_count": 38,
     "metadata": {},
     "output_type": "execute_result"
    }
   ],
   "source": [
    "answers['question_id_11460_answer'].count()"
   ]
  },
  {
   "cell_type": "code",
   "execution_count": 39,
   "metadata": {
    "collapsed": false
   },
   "outputs": [
    {
     "data": {
      "text/plain": [
       "1471"
      ]
     },
     "execution_count": 39,
     "metadata": {},
     "output_type": "execute_result"
    }
   ],
   "source": [
    "answers['question_id_11461_answer'].count()"
   ]
  },
  {
   "cell_type": "code",
   "execution_count": 34,
   "metadata": {
    "collapsed": false
   },
   "outputs": [],
   "source": [
    "answers_graded = answers.dropna(how='any',subset=['question_id_11459_score',\n",
    "                                                  'question_id_11460_score',\n",
    "                                                  'question_id_11461_score'])\n",
    "answers_graded.to_excel('graded_open_answers.xlsx')"
   ]
  },
  {
   "cell_type": "code",
   "execution_count": 24,
   "metadata": {
    "collapsed": false
   },
   "outputs": [
    {
     "data": {
      "text/plain": [
       "<matplotlib.axes._subplots.AxesSubplot at 0x11bbbbbd0>"
      ]
     },
     "execution_count": 24,
     "metadata": {},
     "output_type": "execute_result"
    },
    {
     "data": {
      "image/png": "[encoded data removed]",
      "text/plain": [
       "<matplotlib.figure.Figure at 0x11bba3450>"
      ]
     },
     "metadata": {},
     "output_type": "display_data"
    }
   ],
   "source": [
    "answers_graded['question_id_11459_score'].value_counts().plot(kind='bar')"
   ]
  },
  {
   "cell_type": "code",
   "execution_count": 26,
   "metadata": {
    "collapsed": false
   },
   "outputs": [
    {
     "data": {
      "text/plain": [
       "<matplotlib.axes._subplots.AxesSubplot at 0x11a871650>"
      ]
     },
     "execution_count": 26,
     "metadata": {},
     "output_type": "execute_result"
    },
    {
     "data": {
      "image/png": "[encoded data removed]",
      "text/plain": [
       "<matplotlib.figure.Figure at 0x11bc181d0>"
      ]
     },
     "metadata": {},
     "output_type": "display_data"
    }
   ],
   "source": [
    "answers_graded['question_id_11460_score'].value_counts().plot(kind='bar')        "
   ]
  },
  {
   "cell_type": "code",
   "execution_count": 25,
   "metadata": {
    "collapsed": false
   },
   "outputs": [
    {
     "data": {
      "text/plain": [
       "<matplotlib.axes._subplots.AxesSubplot at 0x11bba3250>"
      ]
     },
     "execution_count": 25,
     "metadata": {},
     "output_type": "execute_result"
    },
    {
     "data": {
      "image/png": "[encoded data removed]",
      "text/plain": [
       "<matplotlib.figure.Figure at 0x11bbd1fd0>"
      ]
     },
     "metadata": {},
     "output_type": "display_data"
    }
   ],
   "source": [
    "answers_graded['question_id_11461_score'].value_counts().plot(kind='bar')"
   ]
  },
  {
   "cell_type": "code",
   "execution_count": 31,
   "metadata": {
    "collapsed": false
   },
   "outputs": [
    {
     "data": {
      "text/plain": [
       "array([ u\"At the beginning of the story Monica had a bad mood because she didn't want to go blueberry picking but at the end of the story Monica likes blueberry picking and she had a good mood at the end of the story.\",\n",
       "       u'Monica\\u2019s response to her mother singing along to West Side Story change is.monicafeltmadatthebeginningofthestory.',\n",
       "       u'Monica\\u2019s response to her mother singing along to West Side Story change between the beginning and end of the story support your answer with evidence from the passage.',\n",
       "       u'why does monica response her mother singing becouse her mother pretend be a rockstar or star in a kitchen',\n",
       "       u'she say mom you can really sing.', u'believein make believe',\n",
       "       u'She is in a better mood.',\n",
       "       u'Her responce turns from good to sortof mean cause she just wants to leave picking berries.',\n",
       "       u'Monica starts to singthat song in the blueberry patch and I think that is what makes her change in story I probable would have to.',\n",
       "       u'she did not smile at first .',\n",
       "       u'She feels different from bad to good, the passage at the beginning of the story that,\"',\n",
       "       u'because she was happy',\n",
       "       u'Mother hugs her and says lets go home and they just get along better.',\n",
       "       u'at the start \"today was west side story\"...\"when we got home mom gave cream for my sting and she was singing along with west side story and it made me smile.\"she went from loving it to it makes her smile',\n",
       "       u'she likes the song at the end and hated the song at the begining',\n",
       "       u\"Monica's mom see's Monica singing and dancing to the same song but when see seen her she felt embarrassed \",\n",
       "       u'mad to smiles',\n",
       "       u'Because she loved that song so she did not care.',\n",
       "       u'At the beginning she said in the story, \"Aren\\'t you a little old to play make belief,\" but at the end when her mom was listening to west side story Monica just smiled.',\n",
       "       u\"Monica was grumpy at the beginning because she didn't like doing all that work but in the end she saw how nice her mother was. now she was happy\",\n",
       "       u'She was all grumpy in the beginning but at the end of the it made her smile.',\n",
       "       u'because they both liked singing and thats how they were happy and monica felt better and not grouchy anymore ',\n",
       "       u'She responces to her mother because she actually felt better than she did at the syart of the book',\n",
       "       u'Her response changes because Monica was more grumpy about it in the beginning but at the end Monica became less grumpy',\n",
       "       u'she is confused to happy',\n",
       "       u'It changes because her mom was humming to it then when Monica starts singing it and calms down.',\n",
       "       u\"when she was grumpy she didn't want to sing at all plus she was into rock music but she was happy and she started singing along\",\n",
       "       u'she thought see was to old and her mom was to old but she likes it now',\n",
       "       u'At the beginning of the story she got mad and frustaded. At the end f the story she woke up and sung along with her mom.',\n",
       "       u\"At first Monica's response at the beginning of the story wen her mom was singing was your to old for make-believe,but at the end she was smiling at her mother.\",\n",
       "       u'atthebeginningmonicasingsand atthe endmonicasduaterstartssinging',\n",
       "       u'she liked it in the starting now she likes it in the end and she smiles and wakes up',\n",
       "       u\"In the beginning Monica says that it's to old for pretending. Then in the end instead of her being roud she smiles.\",\n",
       "       u'because she was thinking about her mom.',\n",
       "       u\"Monica's Response Changed Because In The Beginning Of The Story Monica Was Mad Because When While She Was Singing She Said That We Are Going to go pick some blue berries The At The End She Was Happy Cause \",\n",
       "       u'she ask her mom are to old play make belave and then she smiles the next time she sings it',\n",
       "       u'at first she is mad she is going bluberry picking but then is happy and begins to sing along',\n",
       "       u\"Maybe Monica realized her mother's love for the music and started to appreciate what her mother likes.\",\n",
       "       u'at the begining she did not like it at the end it made her smile'], dtype=object)"
      ]
     },
     "execution_count": 31,
     "metadata": {},
     "output_type": "execute_result"
    }
   ],
   "source": [
    "answers_graded[answers_graded['question_id_11461_score']==.50]['question_id_11461_answer'].values"
   ]
  },
  {
   "cell_type": "code",
   "execution_count": 6,
   "metadata": {
    "collapsed": false
   },
   "outputs": [
    {
     "data": {
      "text/plain": [
       "102"
      ]
     },
     "execution_count": 6,
     "metadata": {},
     "output_type": "execute_result"
    }
   ],
   "source": [
    "len(set(answers.index.values).intersection(set(closed_answers.index.values)))"
   ]
  },
  {
   "cell_type": "code",
   "execution_count": 24,
   "metadata": {
    "collapsed": false
   },
   "outputs": [],
   "source": [
    "open_score_avg = answers_graded[['question_id_11459_score',\n",
    "                                  'question_id_11460_score',\n",
    "                                  'question_id_11461_score']].mean(axis=1).values\n",
    "\n",
    "closed_score_avg = closed_answers[[u'question_id_9802_score',\n",
    "                                u'question_id_9803_score',\n",
    "                                u'question_id_9804_score',\n",
    "                                u'question_id_9805_score',\n",
    "                                u'question_id_9806_score',\n",
    "                                u'question_id_9807_score',\n",
    "                                u'question_id_9808_score']].mean(axis=1).values"
   ]
  },
  {
   "cell_type": "code",
   "execution_count": 34,
   "metadata": {
    "collapsed": false
   },
   "outputs": [
    {
     "data": {
      "text/plain": [
       "Ttest_indResult(statistic=2.6664965296316399, pvalue=0.0077244702282691534)"
      ]
     },
     "execution_count": 34,
     "metadata": {},
     "output_type": "execute_result"
    }
   ],
   "source": [
    "stats.ttest_ind(open_score_avg,closed_score_avg)"
   ]
  },
  {
   "cell_type": "code",
   "execution_count": 37,
   "metadata": {
    "collapsed": false
   },
   "outputs": [
    {
     "data": {
      "text/plain": [
       "243"
      ]
     },
     "execution_count": 37,
     "metadata": {},
     "output_type": "execute_result"
    }
   ],
   "source": [
    "len(open_score_avg)"
   ]
  },
  {
   "cell_type": "code",
   "execution_count": 39,
   "metadata": {
    "collapsed": false
   },
   "outputs": [
    {
     "data": {
      "text/plain": [
       "1823"
      ]
     },
     "execution_count": 39,
     "metadata": {},
     "output_type": "execute_result"
    }
   ],
   "source": [
    "len(closed_score_avg)"
   ]
  },
  {
   "cell_type": "code",
   "execution_count": 6,
   "metadata": {
    "collapsed": false
   },
   "outputs": [],
   "source": [
    "answers_graded.sample(21).to_excel('sample_of_graded_answeres.xlsx')"
   ]
  },
  {
   "cell_type": "code",
   "execution_count": 7,
   "metadata": {
    "collapsed": false
   },
   "outputs": [
    {
     "name": "stdout",
     "output_type": "stream",
     "text": [
      "2824\n",
      "1631\n",
      "1583\n",
      "1350\n"
     ]
    }
   ],
   "source": [
    "print(len(answers))\n",
    "answers_subset = answers.dropna(how='all',subset=['question_id_11459_answer',\n",
    "                                                  'question_id_11460_answer',\n",
    "                                                  'question_id_11461_answer'])\n",
    "print(len(answers_subset))\n",
    "answers_subset = answers_subset[~answers_subset.index.isin(repeated_index)]\n",
    "print(len(answers_subset))\n",
    "answers_subset = answers_subset[~answers_subset.index.isin(answers_graded.index.values)]\n",
    "print(len(answers_subset))"
   ]
  },
  {
   "cell_type": "code",
   "execution_count": 8,
   "metadata": {
    "collapsed": false
   },
   "outputs": [
    {
     "data": {
      "text/plain": [
       "question_id_11459_answer    1325\n",
       "question_id_11460_answer    1265\n",
       "question_id_11461_answer    1200\n",
       "dtype: int64"
      ]
     },
     "execution_count": 8,
     "metadata": {},
     "output_type": "execute_result"
    }
   ],
   "source": [
    "answers_subset[['question_id_11459_answer',\n",
    "            'question_id_11460_answer',\n",
    "            'question_id_11461_answer']].count()"
   ]
  },
  {
   "cell_type": "code",
   "execution_count": null,
   "metadata": {
    "collapsed": false
   },
   "outputs": [],
   "source": []
  },
  {
   "cell_type": "code",
   "execution_count": 9,
   "metadata": {
    "collapsed": false
   },
   "outputs": [],
   "source": [
    "X_train, X_test, y_train, y_test = train_test_split(answers_subset['question_id_11459_answer'], \n",
    "                                                    answers_subset['question_id_11459_score'], \n",
    "                                                    test_size=0.875, \n",
    "                                                    random_state=42)"
   ]
  },
  {
   "cell_type": "code",
   "execution_count": 24,
   "metadata": {
    "collapsed": false
   },
   "outputs": [
    {
     "data": {
      "text/plain": [
       "168"
      ]
     },
     "execution_count": 24,
     "metadata": {},
     "output_type": "execute_result"
    }
   ],
   "source": [
    "len(X_train)"
   ]
  },
  {
   "cell_type": "code",
   "execution_count": 17,
   "metadata": {
    "collapsed": false
   },
   "outputs": [],
   "source": [
    "Grading_test, Angela, Allison, David = np.split(X_train, [21,21+49,21+49*2])"
   ]
  },
  {
   "cell_type": "code",
   "execution_count": 33,
   "metadata": {
    "collapsed": false
   },
   "outputs": [
    {
     "data": {
      "text/plain": [
       "168"
      ]
     },
     "execution_count": 33,
     "metadata": {},
     "output_type": "execute_result"
    }
   ],
   "source": [
    "np.sum([len(x) for x in [Grading_test, Angela, Allison, David]])"
   ]
  },
  {
   "cell_type": "code",
   "execution_count": 32,
   "metadata": {
    "collapsed": false
   },
   "outputs": [
    {
     "data": {
      "text/plain": [
       "set()"
      ]
     },
     "execution_count": 32,
     "metadata": {},
     "output_type": "execute_result"
    }
   ],
   "source": [
    "set(Allison.index.values).intersection(set(David.index.values))"
   ]
  },
  {
   "cell_type": "code",
   "execution_count": 25,
   "metadata": {
    "collapsed": false
   },
   "outputs": [],
   "source": [
    "answers.loc[Grading_test.index.values].to_excel('Grading_test_ReadWorks.xlsx')\n",
    "answers.loc[Angela.index.values].to_excel('Angela.xlsx')\n",
    "answers.loc[Allison.index.values].to_excel('Allison.xlsx')\n",
    "answers.loc[David.index.values].to_excel('David.xlsx')"
   ]
  }
 ],
 "metadata": {
  "kernelspec": {
   "display_name": "Python 2",
   "language": "python",
   "name": "python2"
  },
  "language_info": {
   "codemirror_mode": {
    "name": "ipython",
    "version": 2
   },
   "file_extension": ".py",
   "mimetype": "text/x-python",
   "name": "python",
   "nbconvert_exporter": "python",
   "pygments_lexer": "ipython2",
   "version": "2.7.13"
  }
 },
 "nbformat": 4,
 "nbformat_minor": 2
}
